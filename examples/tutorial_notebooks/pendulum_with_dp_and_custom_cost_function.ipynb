{
  "cells": [
    {
      "cell_type": "markdown",
      "metadata": {
        "id": "view-in-github",
        "colab_type": "text"
      },
      "source": [
        "<a href=\"https://colab.research.google.com/github/SherbyRobotics/pyro/blob/colab/examples/notebooks/pendulum_with_dp_and_custom_cost_function.ipynb\" target=\"_parent\"><img src=\"https://colab.research.google.com/assets/colab-badge.svg\" alt=\"Open In Colab\"/></a>"
      ]
    },
    {
      "cell_type": "markdown",
      "metadata": {
        "id": "W_l3riKM0sPC"
      },
      "source": [
        "### DP for a pendulum swing-up\n",
        "\n",
        "This page shows a quick demo of how DP (dynamic programming) can be used for finding global optimal control policy for a pendulum, with the option to easily modify the cost function to see how it influences the solution."
      ]
    },
    {
      "cell_type": "markdown",
      "metadata": {
        "id": "eOFBWst7WmCb"
      },
      "source": [
        "**Importing Librairies**\n",
        "\n",
        "This page uses the toolbox *pyro*."
      ]
    },
    {
      "cell_type": "code",
      "execution_count": null,
      "metadata": {
        "id": "tH-1a9VJGXi8"
      },
      "outputs": [],
      "source": [
        "!git clone -b dev-alex https://github.com/SherbyRobotics/pyro\n",
        "import sys\n",
        "sys.path.append('/content/pyro')"
      ]
    },
    {
      "cell_type": "code",
      "execution_count": null,
      "metadata": {
        "id": "dBPjwyeEGrxo"
      },
      "outputs": [],
      "source": [
        "import pyro\n",
        "import numpy as np\n",
        "import matplotlib.pyplot as plt\n",
        "\n",
        "from IPython import display\n",
        "!apt install ffmpeg\n",
        "\n",
        "from pyro.dynamic  import pendulum\n",
        "from pyro.planning import discretizer\n",
        "from pyro.analysis import costfunction\n",
        "from pyro.planning import valueiteration"
      ]
    },
    {
      "cell_type": "markdown",
      "metadata": {
        "id": "cau_ePoSW6Z_"
      },
      "source": [
        "**Defining a dynamic system model**\n",
        "\n",
        "Here we load a already defined class including all the dynamic equations and we define the domain (for states x and torque u) for which we will generate a controller."
      ]
    },
    {
      "cell_type": "code",
      "execution_count": null,
      "metadata": {
        "id": "5pf-lSEZG5gy"
      },
      "outputs": [],
      "source": [
        "sys  = pendulum.SinglePendulum()\n",
        "\n",
        "# State and control input domain\n",
        "sys.u_ub[0] = +5 # Max torque\n",
        "sys.u_lb[0] = -5 # Min torque\n",
        "\n",
        "sys.x_ub[0] = +6 # Max angle\n",
        "sys.x_lb[0] = -6 # Min angle\n",
        "sys.x_ub[1] = +6 # Max velocity\n",
        "sys.x_lb[1] = -6 # Min velocity"
      ]
    },
    {
      "cell_type": "markdown",
      "metadata": {
        "id": "KuOjof8uXu6h"
      },
      "source": [
        "**Defining the cost function**\n",
        "\n",
        "Here we can define a cost function or the type:\n",
        "\n",
        "$J = \\int_{0}^{t_f}  g( x , u , t ) dt + h(x_f,t_f)$"
      ]
    },
    {
      "cell_type": "code",
      "execution_count": null,
      "metadata": {
        "id": "SrgvgYn6X3g9"
      },
      "outputs": [],
      "source": [
        "# Cost Function\n",
        "class CustomCostFunction( costfunction.CostFunction ):\n",
        "    \"\"\" \n",
        "    J = int( g(x,u,y,t) * dt ) + h( x(T) , T )\n",
        "    \"\"\"\n",
        "    \n",
        "    ############################\n",
        "    def __init__(self):\n",
        "        \n",
        "        super().__init__()\n",
        "\n",
        "        self.INF = 1E3\n",
        "        self.EPS = 1E-1\n",
        "\n",
        "        # Target state\n",
        "        self.x_target = np.array([ 0, 0])\n",
        "\n",
        "        # Quadratic cost weights\n",
        "        self.Q = np.diag( np.ones(2)  )\n",
        "        self.R = np.diag( np.ones(1)  )\n",
        "        \n",
        "        # Optionnal zone of zero cost if ||dx|| < EPS \n",
        "        self.ontarget_check = False\n",
        "    \n",
        "    \n",
        "    #############################\n",
        "    def g(self, x, u, y, t):\n",
        "        \"\"\" Quadratic additive cost \"\"\"\n",
        "            \n",
        "        # Delta values with respect to target state\n",
        "        dx = x - self.x_target\n",
        "        \n",
        "        dJ = ( np.dot( dx.T , np.dot(  self.Q , dx ) ) +\n",
        "               np.dot(  u.T , np.dot(  self.R ,  u ) ) )\n",
        "        \n",
        "        # Set cost to zero if on target\n",
        "        if self.ontarget_check:\n",
        "            if ( np.linalg.norm( dx ) < self.EPS ):\n",
        "                dJ = 0\n",
        "        \n",
        "        return dJ\n",
        "\n",
        "    #############################\n",
        "    def h(self, x , t = 0):\n",
        "        \"\"\" Final cost function with zero value \"\"\"\n",
        "        \n",
        "        return 0"
      ]
    },
    {
      "cell_type": "markdown",
      "metadata": {
        "id": "7lsE9S_DAM1w"
      },
      "source": [
        "Here we define the parameters used by the cost function"
      ]
    },
    {
      "cell_type": "code",
      "execution_count": null,
      "metadata": {
        "id": "t73-7ek7_ykj"
      },
      "outputs": [],
      "source": [
        "cf = CustomCostFunction()\n",
        "cf.x_target = np.array([ -3.14 , 0 ]) # target (upright position)\n",
        "cf.Q[0,0] = 1\n",
        "cf.Q[1,1] = 1\n",
        "cf.R[0,0] = 1\n",
        "\n",
        "sys.cost_function = cf\n",
        "\n",
        "print('Cost function parameters\\n-----------------')\n",
        "print('Target state:\\n',cf.x_target)\n",
        "print('Q:\\n',cf.Q)\n",
        "print('R:\\n',cf.R)"
      ]
    },
    {
      "cell_type": "markdown",
      "metadata": {
        "id": "fA6gXfzm_V3L"
      },
      "source": [
        "**Synthetizing the \"optimal\" controller**"
      ]
    },
    {
      "cell_type": "markdown",
      "metadata": {
        "id": "P2wLQ8lDYY9S"
      },
      "source": [
        "*VI controller*\n",
        "\n",
        "Here we use a library function that: \\\\\n",
        "1) Discretize the domain of the state and control inputs, by default the 2D state-space is discretized into a 101 x 101 grid, the torque is dicretized into 11 discrete level, and the time step is 0.05 sec. \\\\\n",
        "2) Use the value-iteraton (default is 300 iterations) to compute optimal cost to go and control actions based on the previously defined cost function g(x,u,t) \\\\\n",
        "3) Generate a continuous control law by interpolating in the computed discrete solution"
      ]
    },
    {
      "cell_type": "code",
      "execution_count": null,
      "metadata": {
        "id": "FAaSNGZJ1mDQ"
      },
      "outputs": [],
      "source": [
        "x_grid             = (101,101)\n",
        "u_grid             = (11,1)\n",
        "dt                 = 0.05\n",
        "vi_iteration_steps = 200\n",
        "\n",
        "\n",
        "vi = valueiteration.ValueIteration_2D( discretizer.GridDynamicSystem( sys , x_grid, u_grid, dt ) , cf )\n",
        "\n",
        "vi.initialize()\n",
        "vi.compute_steps( vi_iteration_steps ) \n",
        "vi.assign_interpol_controller()"
      ]
    },
    {
      "cell_type": "markdown",
      "metadata": {
        "id": "zdh4yFg_FgRY"
      },
      "source": [
        "The following figure illustrate the computed optimal cost-to-go J* for every starting state. Note that we saturate the maximum J* to plot here to better show the range of interest."
      ]
    },
    {
      "cell_type": "code",
      "execution_count": null,
      "metadata": {
        "id": "tYvuIOjCEHYi"
      },
      "outputs": [],
      "source": [
        "max_cost_to_plot = 200\n",
        "\n",
        "vi.plot_cost2go(max_cost_to_plot)"
      ]
    },
    {
      "cell_type": "markdown",
      "metadata": {
        "id": "3RNstCw33nMl"
      },
      "source": [
        "**Showing the computed control laws**\n",
        "\n",
        "The next lines generate two figures showing a map illustrating the computed optimal torque to use as a function of the two system states: \\\\\n",
        "$τ=f(θ,\\dotθ)$"
      ]
    },
    {
      "cell_type": "code",
      "execution_count": null,
      "metadata": {
        "id": "h9qMUO1P3w0g"
      },
      "outputs": [],
      "source": [
        "vi.ctl.plot_control_law(sys=sys, n=100)"
      ]
    },
    {
      "cell_type": "markdown",
      "metadata": {
        "id": "_AzXZ49f4Ude"
      },
      "source": [
        "**Simulations**\n",
        "\n",
        "Here we show both control law in action, with a trajectory starting at the state $[\\theta=0,\\dot\\theta=0]$."
      ]
    },
    {
      "cell_type": "code",
      "execution_count": null,
      "metadata": {
        "id": "f_HnxHQi5rrN"
      },
      "outputs": [],
      "source": [
        "x0 = np.array([ 0 ,0])  # initial state\n",
        "tf = 10                 # simulation time"
      ]
    },
    {
      "cell_type": "code",
      "execution_count": null,
      "metadata": {
        "id": "kR-BLIc2eKq8"
      },
      "outputs": [],
      "source": [
        "cl_sys_vi      =   vi.ctl + sys \n",
        "cl_sys_vi.x0   = x0\n",
        "cl_sys_vi.compute_trajectory( tf )\n",
        "cl_sys_vi.plot_trajectory('xu')"
      ]
    },
    {
      "cell_type": "markdown",
      "metadata": {
        "id": "e1Qe3Ux_5yzU"
      },
      "source": [
        "**Animation of the simulations**\n",
        "\n",
        "Here the following function generates an animation of the computed trajectory."
      ]
    },
    {
      "cell_type": "code",
      "execution_count": null,
      "metadata": {
        "id": "lfjr9zXlYYMb"
      },
      "outputs": [],
      "source": [
        "video_vi = cl_sys_vi.generate_simulation_html_video()\n",
        "html_vi  = display.HTML(video_vi)\n",
        "display.display(html_vi)"
      ]
    },
    {
      "cell_type": "markdown",
      "metadata": {
        "id": "WYaQH0iEO8Y6"
      },
      "source": [
        "**Phase-plane trajectory**\n",
        "\n",
        "Here the same trajectory is shown on the phase-plane of the pendulum. Here the vector field illustrate the natural dynamics allong which the pendulum would evolve naturally if no torque are applied on the system."
      ]
    },
    {
      "cell_type": "code",
      "execution_count": null,
      "metadata": {
        "id": "kFJZHGIYOrHf"
      },
      "outputs": [],
      "source": [
        "cl_sys_vi.plot_phase_plane_trajectory_closed_loop()"
      ]
    },
    {
      "cell_type": "markdown",
      "metadata": {
        "id": "end7Y3uOQnAA"
      },
      "source": [
        "**Performance**\n",
        "\n",
        "Here the performance, in terms of the defined cost-function $J = \\int g(x,u,t) dt$, is shown. Note, $dJ = \\frac{dJ}{dt} = g(x,u,t) $ is the increment of cost at each instant and $J$ is the cummulative cost."
      ]
    },
    {
      "cell_type": "code",
      "execution_count": null,
      "metadata": {
        "id": "TnDhVYBmO7oQ"
      },
      "outputs": [],
      "source": [
        "cl_sys_vi.plot_trajectory('j')"
      ]
    }
  ],
  "metadata": {
    "colab": {
      "name": "pendulum_with_dp_and_custom_cost_function.ipynb",
      "provenance": [],
      "private_outputs": true,
      "include_colab_link": true
    },
    "kernelspec": {
      "display_name": "Python 3",
      "name": "python3"
    },
    "language_info": {
      "name": "python"
    }
  },
  "nbformat": 4,
  "nbformat_minor": 0
}