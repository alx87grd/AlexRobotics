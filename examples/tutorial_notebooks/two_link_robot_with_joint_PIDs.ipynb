{
  "nbformat": 4,
  "nbformat_minor": 0,
  "metadata": {
    "colab": {
      "name": "two_link_robot_with_joint_PIDs.ipynb",
      "provenance": [],
      "private_outputs": true,
      "include_colab_link": true
    },
    "kernelspec": {
      "name": "python3",
      "display_name": "Python 3"
    },
    "language_info": {
      "name": "python"
    }
  },
  "cells": [
    {
      "cell_type": "markdown",
      "metadata": {
        "id": "view-in-github",
        "colab_type": "text"
      },
      "source": [
        "<a href=\"https://colab.research.google.com/github/SherbyRobotics/pyro/blob/colab/examples/notebooks/two_link_robot_with_joint_PIDs.ipynb\" target=\"_parent\"><img src=\"https://colab.research.google.com/assets/colab-badge.svg\" alt=\"Open In Colab\"/></a>"
      ]
    },
    {
      "cell_type": "markdown",
      "metadata": {
        "id": "eOFBWst7WmCb"
      },
      "source": [
        "**Importing Librairies**"
      ]
    },
    {
      "cell_type": "code",
      "metadata": {
        "id": "tH-1a9VJGXi8"
      },
      "source": [
        "!git clone -b dev-alex https://github.com/SherbyRobotics/pyro\n",
        "import sys\n",
        "sys.path.append('/content/pyro')"
      ],
      "execution_count": null,
      "outputs": []
    },
    {
      "cell_type": "code",
      "metadata": {
        "id": "dBPjwyeEGrxo"
      },
      "source": [
        "import pyro\n",
        "import numpy as np\n",
        "import matplotlib.pyplot as plt\n",
        "\n",
        "from IPython import display\n",
        "!apt install ffmpeg\n",
        "\n",
        "from pyro.dynamic  import manipulator\n",
        "from pyro.control  import robotcontrollers"
      ],
      "execution_count": null,
      "outputs": []
    },
    {
      "cell_type": "markdown",
      "metadata": {
        "id": "cau_ePoSW6Z_"
      },
      "source": [
        "**Defining Dynamic System Model**"
      ]
    },
    {
      "cell_type": "code",
      "metadata": {
        "id": "5pf-lSEZG5gy"
      },
      "source": [
        "robot = manipulator.TwoLinkManipulator()\n",
        "\n",
        "robot.l1 = 0.5 # length of first rigid link\n",
        "robot.l2 = 0.3 # length of second rigid link"
      ],
      "execution_count": null,
      "outputs": []
    },
    {
      "cell_type": "markdown",
      "metadata": {
        "id": "KuOjof8uXu6h"
      },
      "source": [
        "**Showing the defined robot**"
      ]
    },
    {
      "cell_type": "code",
      "metadata": {
        "id": "SrgvgYn6X3g9"
      },
      "source": [
        "q = [0.1,0.1]     # robot configuration [ joint 1 angle (rad) ,  joint 2 angle (rad)]\n",
        "robot.show( q )"
      ],
      "execution_count": null,
      "outputs": []
    },
    {
      "cell_type": "markdown",
      "metadata": {
        "id": "P2wLQ8lDYY9S"
      },
      "source": [
        "**Showing the robot natural behavior with no controllers**"
      ]
    },
    {
      "cell_type": "code",
      "metadata": {
        "id": "lfjr9zXlYYMb"
      },
      "source": [
        "# robot initial states [ joint 1 angle (rad),  joint 2 angle (rad), joint 1 velocity (rad/sec),  joint 1 velocity (rad/sec)]\n",
        "robot.x0 = np.array([0.1,0.1,0.0,0.0]) \n",
        "natural_trajectory = robot.compute_trajectory()\n",
        "\n",
        "# Animate the simulation\n",
        "video1 = robot.generate_simulation_html_video()\n",
        "html1 = display.HTML(video1)\n",
        "display.display(html1)"
      ],
      "execution_count": null,
      "outputs": []
    },
    {
      "cell_type": "markdown",
      "metadata": {
        "id": "nxKK7RWBa8kd"
      },
      "source": [
        "**Defining a robot controller (indepedent joint PIDs)**"
      ]
    },
    {
      "cell_type": "code",
      "metadata": {
        "id": "M4cQxkQTD0Qn"
      },
      "source": [
        "joint_PID            = robotcontrollers.JointPID( dof = 2 )\n",
        "joint_PID.rbar       = np.array([0.5,0.5])                 # Desired robot joint configuration [ joint 1 angle (rad) ,  joint 2 angle (rad)]\n",
        "joint_PID.kp         = np.array([ 25,  5])                 # Proportionnal gains\n",
        "joint_PID.kd         = np.array([  5,  2])                 # Derivative gains\n",
        "joint_PID.ki         = np.array([  8,  4])                 # Integral gains\n"
      ],
      "execution_count": null,
      "outputs": []
    },
    {
      "cell_type": "markdown",
      "metadata": {
        "id": "rOXYBwANcsc9"
      },
      "source": [
        "**Simulating the robot in closed-loop**"
      ]
    },
    {
      "cell_type": "code",
      "metadata": {
        "id": "5YuyYOPSc5Gy"
      },
      "source": [
        "# Create the closed-loop system\n",
        "closed_loop_robot = joint_PID + robot\n",
        "\n",
        "# robot initial states [ joint 1 angle (rad),  joint 2 angle (rad), joint 1 velocity (rad/sec),  joint 1 velocity (rad/sec), PID_internalstate_1 , PID_internalstate_2]\n",
        "closed_loop_robot.x0 = np.array([0.1,0.1,0,0,0,0])  \n",
        "\n",
        "# Run the simulation\n",
        "closed_loop_trajectory = closed_loop_robot.compute_trajectory()"
      ],
      "execution_count": null,
      "outputs": []
    },
    {
      "cell_type": "code",
      "source": [
        "# Plot systems states\n",
        "closed_loop_robot.plot_trajectory('x')"
      ],
      "metadata": {
        "id": "zqNOHkbr73JT"
      },
      "execution_count": null,
      "outputs": []
    },
    {
      "cell_type": "code",
      "source": [
        "# Plot control inputs\n",
        "closed_loop_robot.plot_trajectory('u')"
      ],
      "metadata": {
        "id": "aAWOXQjo75pR"
      },
      "execution_count": null,
      "outputs": []
    },
    {
      "cell_type": "code",
      "source": [
        "# Plot internal controller states\n",
        "closed_loop_robot.plot_internal_controller_states()"
      ],
      "metadata": {
        "id": "STagycwj76Jk"
      },
      "execution_count": null,
      "outputs": []
    },
    {
      "cell_type": "code",
      "source": [
        "# Animate the simulation\n",
        "video2 = closed_loop_robot.generate_simulation_html_video()\n",
        "html2 = display.HTML(video2)\n",
        "display.display(html2)"
      ],
      "metadata": {
        "id": "6b5LMggz7kUI"
      },
      "execution_count": null,
      "outputs": []
    }
  ]
}