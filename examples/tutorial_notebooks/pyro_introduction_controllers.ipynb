{
  "nbformat": 4,
  "nbformat_minor": 0,
  "metadata": {
    "colab": {
      "name": "pyro_introduction_controllers.ipynb",
      "provenance": [],
      "private_outputs": true,
      "collapsed_sections": [],
      "toc_visible": true,
      "include_colab_link": true
    },
    "kernelspec": {
      "name": "python3",
      "display_name": "Python 3"
    },
    "language_info": {
      "name": "python"
    }
  },
  "cells": [
    {
      "cell_type": "markdown",
      "metadata": {
        "id": "view-in-github",
        "colab_type": "text"
      },
      "source": [
        "<a href=\"https://colab.research.google.com/github/SherbyRobotics/pyro/blob/colab/examples/notebooks/pyro_introduction_controllers.ipynb\" target=\"_parent\"><img src=\"https://colab.research.google.com/assets/colab-badge.svg\" alt=\"Open In Colab\"/></a>"
      ]
    },
    {
      "cell_type": "markdown",
      "source": [
        "# Pyro\n",
        "\n",
        "## An object-based toolbox for robot dynamic simulation, analysis, control and planning\n",
        "\n",
        "\n",
        "This page is an introduction to the basic functionnality of pyro, an open-source python library developped at Université de Sherbrooke and hosted here: https://github.com/SherbyRobotics/pyro"
      ],
      "metadata": {
        "id": "OfiozzVs1Upg"
      }
    },
    {
      "cell_type": "markdown",
      "source": [
        "## Tutorial content\n",
        "\n",
        "\n",
        "1.   [The Dynamic System class and basic functionnality](https://colab.research.google.com/drive/18eEL-n-dv9JZz732nFCMtqMThDcfD2Pr?usp=sharing)\n",
        "2.   [Creating a custom dynamic class](https://colab.research.google.com/drive/1ILfRpL1zgiQZBOxwtbbpe0nl2znvzdWl?usp=sharing)\n",
        "3.   **Closed-loop system and controllers objects (this page)**\n",
        "4.   The Linear System class (comin soon..)\n",
        "4.   The Mechanical System class (coming soon..)\n",
        "5.   [The Manipulator Robot class](https://colab.research.google.com/drive/1OILAhXRxM1r5PEB1BWaYtbR147Ff3gr1?usp=sharing)\n",
        "\n",
        "\n"
      ],
      "metadata": {
        "id": "UFUZaXXQ2fMq"
      }
    },
    {
      "cell_type": "markdown",
      "metadata": {
        "id": "eOFBWst7WmCb"
      },
      "source": [
        "## Importing Pyro\n",
        "\n",
        "This code show a quick exemple of\n",
        "\n",
        "1.   Cloning pyro code source from the github repository\n",
        "2.   Adding pyro folder to the python path\n",
        "3.   Importing the library to the python interpreter\n",
        "\n"
      ]
    },
    {
      "cell_type": "code",
      "metadata": {
        "id": "tH-1a9VJGXi8"
      },
      "source": [
        "!git clone https://github.com/SherbyRobotics/pyro\n",
        "import sys\n",
        "sys.path.append('/content/pyro')\n",
        "import pyro"
      ],
      "execution_count": null,
      "outputs": []
    },
    {
      "cell_type": "markdown",
      "source": [
        "\n",
        "Here we import other basic python tools:\n",
        "\n",
        "*   Numpy: the python library for linear algebra, on top of which pyro is built. \n",
        "*   Display: that is needed to show animation in the colab environment. If pyro is used locally then this is not needed.\n",
        "*   Inspect: that we will use here only for printing source code in for this tutorial\n",
        "\n"
      ],
      "metadata": {
        "id": "kr5SoAHNhnZ7"
      }
    },
    {
      "cell_type": "code",
      "source": [
        "import numpy as np\n",
        "from IPython import display\n",
        "import inspect"
      ],
      "metadata": {
        "id": "WMPkS-g9hjNl"
      },
      "execution_count": null,
      "outputs": []
    },
    {
      "cell_type": "markdown",
      "source": [
        "# The Static Controller class\n",
        "\n",
        "**The core of a static controller system is defined by a control law of the following form:** \\\\\n",
        "$u = c(y,r,t)$ \\\\\n",
        "where $u$ is a control input vector, $y$ is a sensor output vector, $r$ is a reference vector and $t$ is the time. This function can be used to represent the real-time computation a controller would do, based on a sensor feedback sginal, a reference signal and the time, to selected the command to send to the system actuators.\n",
        "\n",
        "The following figure show how this control law can be used to close the loop of a dynamic system using a block diagram representation:\n",
        "<img width=\"800\" src=\"https://user-images.githubusercontent.com/16725496/116826519-59ff9980-ab62-11eb-8256-6a9f4a3f4f0f.png\" class=\"center\">\n",
        "\n"
      ],
      "metadata": {
        "id": "aTzMjMPmdkuv"
      }
    },
    {
      "cell_type": "markdown",
      "source": [
        "## Example of basic usage\n",
        "\n"
      ],
      "metadata": {
        "id": "iyer2Uki8vKn"
      }
    },
    {
      "cell_type": "markdown",
      "source": [
        "Here load a dynamic system class and create an instance:"
      ],
      "metadata": {
        "id": "a6NjVDjnDE97"
      }
    },
    {
      "cell_type": "code",
      "source": [
        "from pyro.dynamic import pendulum   # Here we load pyro library of pedulum system\n",
        "\n",
        "sys = pendulum.SinglePendulum()     # Here we create an instance of the Single Pendulum"
      ],
      "metadata": {
        "id": "JkhwvY5e9WcJ"
      },
      "execution_count": null,
      "outputs": []
    },
    {
      "cell_type": "markdown",
      "source": [
        "Here we load a controller class and create an instance:"
      ],
      "metadata": {
        "id": "2caJOzCg95Qx"
      }
    },
    {
      "cell_type": "code",
      "source": [
        "from pyro.control import linear\n",
        "\n",
        "ctl = linear.ProportionalController( m = 1 , p = 2)"
      ],
      "metadata": {
        "id": "etSSb7MS-Gde"
      },
      "execution_count": null,
      "outputs": []
    },
    {
      "cell_type": "markdown",
      "source": [
        "This controller class implement a linear feedback law of the form:\n",
        "\n",
        "$u = K ( r - y )$\n",
        "\n",
        "where $K$ is a $m \\times p $ matrix. Note: $m$ is the dimension of $u$ and $p$ is the dimension of $y$."
      ],
      "metadata": {
        "id": "M_Ugx-J8DuAg"
      }
    },
    {
      "cell_type": "markdown",
      "source": [
        "Next we can set feedback gains in the matrix, and a default constant reference signal:"
      ],
      "metadata": {
        "id": "Tq0nyuaDE58g"
      }
    },
    {
      "cell_type": "code",
      "source": [
        "ctl.K[0,0] = 25\n",
        "ctl.K[0,1] = 5\n",
        "print( 'Controller gain matrix K =', ctl.K )\n",
        "ctl.rbar[0] = 3.14\n",
        "print( 'r =', ctl.rbar )"
      ],
      "metadata": {
        "id": "3bIfEsz5EtDq"
      },
      "execution_count": null,
      "outputs": []
    },
    {
      "cell_type": "markdown",
      "source": [
        "Then we create a new dynamic system object that represent the closed-loop behavior of the original system with the controller:"
      ],
      "metadata": {
        "id": "DlQO5dVqFlol"
      }
    },
    {
      "cell_type": "code",
      "source": [
        "cl_sys = ctl + sys"
      ],
      "metadata": {
        "id": "y_QbCgdMFxzI"
      },
      "execution_count": null,
      "outputs": []
    },
    {
      "cell_type": "markdown",
      "source": [
        "This new \"closed-loop\" object instance can now be used like a regular dynamic system object, all the tools demonstrated in the previous section of the tutorial are available."
      ],
      "metadata": {
        "id": "ZW_3IYI1GdbS"
      }
    },
    {
      "cell_type": "markdown",
      "source": [
        "Then we can run a simulation to see the behavior of the system with a controller:"
      ],
      "metadata": {
        "id": "VF1WDcLgGvLS"
      }
    },
    {
      "cell_type": "code",
      "source": [
        "cl_sys.x0 = np.array([ 0.1 , 0 ])\n",
        "cl_sys.compute_trajectory( tf = 4 )\n",
        "cl_sys.plot_trajectory('xu')"
      ],
      "metadata": {
        "id": "Xms0GJjLGzHE"
      },
      "execution_count": null,
      "outputs": []
    },
    {
      "cell_type": "markdown",
      "source": [
        "and show an animation:"
      ],
      "metadata": {
        "id": "8rgwLQdlHG0a"
      }
    },
    {
      "cell_type": "code",
      "source": [
        "# This would work locally in a python console\n",
        "#cl_sys.animate_simulation()\n",
        "\n",
        "# This is the way for showing an animation on colab (we need to generate html)\n",
        "ani  = cl_sys.generate_simulation_html_video()\n",
        "html = display.HTML( ani )\n",
        "display.display(html)"
      ],
      "metadata": {
        "id": "R4RbzBnY-fsn"
      },
      "execution_count": null,
      "outputs": []
    },
    {
      "cell_type": "markdown",
      "source": [
        "It is possible a modify directly the control law by overloading the controller method"
      ],
      "metadata": {
        "id": "C8ALbQKPIePD"
      }
    },
    {
      "cell_type": "code",
      "source": [
        "def c(y,r,t):\n",
        "  u =  20.0 * np.sin( y[0] ) - 2.0 * y[1]  # new feedback law\n",
        "  return np.array([u])\n",
        "\n",
        "ctl.c = c\n",
        "\n",
        "cl_sys.compute_trajectory()\n",
        "\n",
        "cl_sys.plot_trajectory('xu')"
      ],
      "metadata": {
        "id": "dZ4FUwIWt5FC"
      },
      "execution_count": null,
      "outputs": []
    },
    {
      "cell_type": "code",
      "source": [
        "ani  = cl_sys.generate_simulation_html_video()\n",
        "html = display.HTML( ani )\n",
        "display.display(html)"
      ],
      "metadata": {
        "id": "t_LE4_8GJ3Ar"
      },
      "execution_count": null,
      "outputs": []
    },
    {
      "cell_type": "markdown",
      "source": [
        "## Shorcuts for quick analysis\n",
        "\n",
        "All the tool available for a regular system can be used on a closed-loop system.\n",
        "For exemple, here we show the phase-plane behavior of the open-loop and then the closed-loop system."
      ],
      "metadata": {
        "id": "60TG4Xc0_Wzv"
      }
    },
    {
      "cell_type": "code",
      "source": [
        "# Phase-plane plot\n",
        "sys.plot_phase_plane()\n",
        "cl_sys.plot_phase_plane()"
      ],
      "metadata": {
        "id": "c7bi0dxC_hVp"
      },
      "execution_count": null,
      "outputs": []
    },
    {
      "cell_type": "markdown",
      "source": [
        "There is a shorcut specific for closed-loop system that shows both the open-loop and closed-loop phase plane behavior on the same plot:"
      ],
      "metadata": {
        "id": "Ct9915l4LNtM"
      }
    },
    {
      "cell_type": "code",
      "source": [
        "cl_sys.plot_phase_plane_closed_loop()"
      ],
      "metadata": {
        "id": "vEe3hxQWLN5J"
      },
      "execution_count": null,
      "outputs": []
    },
    {
      "cell_type": "markdown",
      "source": [
        "## Creating a custom static controller class\n",
        "\n",
        "Coming soon!"
      ],
      "metadata": {
        "id": "5jal8bqjL1MS"
      }
    }
  ]
}