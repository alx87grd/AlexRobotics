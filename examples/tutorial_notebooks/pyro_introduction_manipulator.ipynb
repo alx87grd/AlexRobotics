{
  "nbformat": 4,
  "nbformat_minor": 0,
  "metadata": {
    "colab": {
      "name": "pyro_introduction_manipulator.ipynb",
      "provenance": [],
      "private_outputs": true,
      "collapsed_sections": [],
      "toc_visible": true,
      "include_colab_link": true
    },
    "kernelspec": {
      "name": "python3",
      "display_name": "Python 3"
    },
    "language_info": {
      "name": "python"
    }
  },
  "cells": [
    {
      "cell_type": "markdown",
      "metadata": {
        "id": "view-in-github",
        "colab_type": "text"
      },
      "source": [
        "<a href=\"https://colab.research.google.com/github/SherbyRobotics/pyro/blob/colab/examples/notebooks/pyro_introduction_manipulator.ipynb\" target=\"_parent\"><img src=\"https://colab.research.google.com/assets/colab-badge.svg\" alt=\"Open In Colab\"/></a>"
      ]
    },
    {
      "cell_type": "markdown",
      "source": [
        "# Pyro\n",
        "\n",
        "## An object-based toolbox for robot dynamic simulation, analysis, control and planning\n",
        "\n",
        "\n",
        "This page is an introduction to the basic functionnality of pyro, an open-source python library developped at Université de Sherbrooke and hosted here: https://github.com/SherbyRobotics/pyro"
      ],
      "metadata": {
        "id": "OfiozzVs1Upg"
      }
    },
    {
      "cell_type": "markdown",
      "source": [
        "## Tutorial content\n",
        "\n",
        "1.   [The Dynamic System class and basic functionnality](https://colab.research.google.com/drive/18eEL-n-dv9JZz732nFCMtqMThDcfD2Pr?usp=sharing)\n",
        "2.   [Creating a custom dynamic class](https://colab.research.google.com/drive/1ILfRpL1zgiQZBOxwtbbpe0nl2znvzdWl?usp=sharing)\n",
        "3.   [Closed-loop system and controllers objects](https://colab.research.google.com/drive/1mog1HAFN2NFEdw6sPudzW2OaTk_li0Vx?usp=sharing)\n",
        "4.   The Linear System class (comin soon..)\n",
        "4.   The Mechanical System class (coming soon..)\n",
        "5.   **The Manipulator Robot class (this page)**\n",
        "\n",
        "\n",
        "\n"
      ],
      "metadata": {
        "id": "UFUZaXXQ2fMq"
      }
    },
    {
      "cell_type": "markdown",
      "metadata": {
        "id": "eOFBWst7WmCb"
      },
      "source": [
        "## Importing Pyro\n",
        "\n",
        "This code show a quick exemple of\n",
        "\n",
        "1.   Cloning pyro code source from the github repository\n",
        "2.   Adding pyro folder to the python path\n",
        "3.   Importing the library to the python interpreter\n",
        "\n"
      ]
    },
    {
      "cell_type": "code",
      "metadata": {
        "id": "tH-1a9VJGXi8"
      },
      "source": [
        "!git clone https://github.com/SherbyRobotics/pyro\n",
        "import sys\n",
        "sys.path.append('/content/pyro')\n",
        "import pyro"
      ],
      "execution_count": null,
      "outputs": []
    },
    {
      "cell_type": "markdown",
      "source": [
        "\n",
        "Here we import other basic python tools:\n",
        "\n",
        "*   Numpy: the python library for linear algebra, on top of which pyro is built. \n",
        "*   Display: that is needed to show animation in the colab environment. If pyro is used locally then this is not needed.\n",
        "*   Inspect: that we will use here only for printing source code in for this tutorial\n",
        "\n"
      ],
      "metadata": {
        "id": "kr5SoAHNhnZ7"
      }
    },
    {
      "cell_type": "code",
      "source": [
        "import numpy as np\n",
        "from IPython import display\n",
        "import inspect"
      ],
      "metadata": {
        "id": "WMPkS-g9hjNl"
      },
      "execution_count": null,
      "outputs": []
    },
    {
      "cell_type": "markdown",
      "source": [
        "# The Manipulator Robot Class\n",
        "\n",
        "This class of system can be used to represent dynamic system (typically robotic arms) that can be described by the following second-order differential equation:\n",
        "\n",
        "$H(q)\\ddot{q} + C(\\dot{q},q)\\dot{q} + d(\\dot{q},q) + g(q) = B(q) \\tau + J(q)^T f_e $\n",
        "\n",
        "where :\n",
        "\n",
        "*   $H(q)$ is an inertia matrix\n",
        "*   $C(\\dot{q},q)$ is a matrix caracterizing coriolis and centrifugal effects\n",
        "*   $B(q)$ is a matrix describing how the actuator act on the system\n",
        "*   $J(q)$ is the jacobian matrix of the manipulator such that $J = \\frac{\\partial r}{\\partial q}$\n",
        "*   $d(\\dot{q},q)$ is a vector describing the state-dependent dissipative forces\n",
        "*   $g(q)$ is a vector describing the state-dependent conervative forces\n",
        "*   $q$ is a vector of configuration variable describing the joint-space\n",
        "*   $r$ is a vector of configuration variable describing the task-space (typically x-y-z of the tool at the end-effector)\n",
        "*   $\\tau$ is a vector of force\\torque describing effort at the actuators \n",
        "*   $f_e$ is a vector of external forces at the end-effector\n",
        "\n",
        "Furthermore, manipulator also implement kinematic relationship: a forward kinematic function that compute end-effector coordinates given joint-space variables:\n",
        "\n",
        "$r = $forward_kinematic_effector$(q)$\n",
        "    \n",
        "and a forward differential kinematic function that compute end-effector velocities given joint-space velocities:\n",
        "\n",
        "$\\dot{r} = J(q) \\dot{q}$\n",
        "\n",
        "all manipulator object must implement methods defining the listing state-dependent properties, i.e. function defining matrix and vector that are functions of $q$ and $\\dot{q}$."
      ],
      "metadata": {
        "id": "oxYKfeONVM4e"
      }
    },
    {
      "cell_type": "markdown",
      "source": [
        "## Exemple\n",
        "\n",
        "Here we load as an exemple a class implementing a two link manipulator:"
      ],
      "metadata": {
        "id": "0bUyAXwuXI_J"
      }
    },
    {
      "cell_type": "code",
      "source": [
        "from pyro.dynamic import manipulator\n",
        "\n",
        "sys = manipulator.TwoLinkManipulator()"
      ],
      "metadata": {
        "id": "EjjZ-1SeYYgy"
      },
      "execution_count": null,
      "outputs": []
    },
    {
      "cell_type": "markdown",
      "source": [
        "Now lets look under the hood to see the source code of those function implementing the dynamics and kinematic:"
      ],
      "metadata": {
        "id": "mkOVhtlzYZOh"
      }
    },
    {
      "cell_type": "code",
      "source": [
        "print( inspect.getsource( sys.H ))"
      ],
      "metadata": {
        "id": "3kNUp3-uZlXT"
      },
      "execution_count": null,
      "outputs": []
    },
    {
      "cell_type": "code",
      "source": [
        "print( inspect.getsource( sys.C ))"
      ],
      "metadata": {
        "id": "Ov44NVEAaTpd"
      },
      "execution_count": null,
      "outputs": []
    },
    {
      "cell_type": "code",
      "source": [
        "print( inspect.getsource( sys.d ))"
      ],
      "metadata": {
        "id": "4JAT8SvaaAAl"
      },
      "execution_count": null,
      "outputs": []
    },
    {
      "cell_type": "code",
      "source": [
        "print( inspect.getsource( sys.g ))"
      ],
      "metadata": {
        "id": "i1CtExJjaBvz"
      },
      "execution_count": null,
      "outputs": []
    },
    {
      "cell_type": "code",
      "source": [
        "print( inspect.getsource( sys.B ))"
      ],
      "metadata": {
        "id": "G-P0WGCtaEGJ"
      },
      "execution_count": null,
      "outputs": []
    },
    {
      "cell_type": "code",
      "source": [
        "print( inspect.getsource( sys.J ))"
      ],
      "metadata": {
        "id": "E4DFtuKCaFQm"
      },
      "execution_count": null,
      "outputs": []
    },
    {
      "cell_type": "code",
      "source": [
        "print( inspect.getsource( sys.forward_kinematic_effector ))"
      ],
      "metadata": {
        "id": "S0uF-gnSaYZd"
      },
      "execution_count": null,
      "outputs": []
    },
    {
      "cell_type": "markdown",
      "source": [
        "Based on those definition, the more generic from of the dynamics:\n",
        "\n",
        "$\\dot{x} = f(x,u,t)$ \\\\\n",
        "is automatically computed, and all generic analysis tools can be used.\n"
      ],
      "metadata": {
        "id": "kzxK2C8nawS6"
      }
    },
    {
      "cell_type": "code",
      "source": [
        "sys.x0   = np.array([ 0.1, 0.1, 0.0, 0.0]) # robot initial states [ joint 1 angle (rad),  joint 2 angle (rad), joint 1 velocity (rad/sec),  joint 1 velocity (rad/sec)]\n",
        "sys.ubar = np.array([ 1.5, 0.5])           # robot default constant torques\n",
        "\n",
        "# run the simulation\n",
        "sys.compute_trajectory( tf = 6 )\n",
        "\n",
        "# Animate and display the simulation\n",
        "#sys.animate_simulation() # This would work locally in a python console\n",
        "ani  = sys.generate_simulation_html_video()\n",
        "html = display.HTML( ani )\n",
        "display.display(html)"
      ],
      "metadata": {
        "id": "WlpVss0TavVD"
      },
      "execution_count": null,
      "outputs": []
    },
    {
      "cell_type": "markdown",
      "source": [
        "# Speed-controlled Manipulator Robot Class\n",
        "\n",
        "This class of system can be used to represent robot arm behavior when the actuators take velocity commands. This model assume that low-level velocity controllers in the joints are perfect. The dynamics is reduced to \n",
        "\n",
        "$\\dot{q} = u$\n",
        "\n",
        "but with the following kinematic relationships: a forward kinematic function that compute end-effector coordinates given joint-space variables:\n",
        "\n",
        "$r = $forward_kinematic_effector$(q)$\n",
        "    \n",
        "and a forward differential kinematic function that compute end-effector velocities given joint-space velocities:\n",
        "\n",
        "$\\dot{r} = J(q) \\dot{q}$\n",
        "\n",
        "where :\n",
        "\n",
        "*   $J(q)$ is the jacobian matrix of the manipulator such that $J = \\frac{\\partial r}{\\partial q}$\n",
        "*   $q$ is a vector of configuration variable describing the joint-space\n",
        "*   $r$ is a vector of configuration variable describing the task-space (typically x-y-z of the tool at the end-effector)\n",
        "*   $u$ is a vector of velocity commands sent to the actuators"
      ],
      "metadata": {
        "id": "HYVnZcY2cfCQ"
      }
    },
    {
      "cell_type": "markdown",
      "source": [
        "Manipulator object can be converted to speed-controlled manipulator using the following command:"
      ],
      "metadata": {
        "id": "aWQKt0yad9Za"
      }
    },
    {
      "cell_type": "code",
      "source": [
        "# Kinematic only model (inputs are motor velocities)\n",
        "new_sys  = manipulator.SpeedControlledManipulator.from_manipulator( sys )"
      ],
      "metadata": {
        "id": "QY0efzs6ceKX"
      },
      "execution_count": null,
      "outputs": []
    },
    {
      "cell_type": "markdown",
      "source": [
        "## Exemple\n",
        "\n",
        "Here we run a simulation of the speed-controlled version of the same manipulator:"
      ],
      "metadata": {
        "id": "M2pVbdgufH_j"
      }
    },
    {
      "cell_type": "code",
      "source": [
        "new_sys.x0   = np.array([ 0.1, 0.1]) # robot initial states [ joint 1 angle (rad)]\n",
        "new_sys.ubar = np.array([ 1.5, 0.5])     # robot default constant torques\n",
        "\n",
        "# run the simulation\n",
        "new_sys.compute_trajectory( tf = 6 )\n",
        "\n",
        "# Animate and display the simulation\n",
        "#new_sys.animate_simulation() # This would work locally in a python console\n",
        "ani  = new_sys.generate_simulation_html_video()\n",
        "html = display.HTML( ani )\n",
        "display.display(html)"
      ],
      "metadata": {
        "id": "Az2T_xUCfN9c"
      },
      "execution_count": null,
      "outputs": []
    }
  ]
}