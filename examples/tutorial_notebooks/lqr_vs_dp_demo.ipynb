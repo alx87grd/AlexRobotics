{
  "nbformat": 4,
  "nbformat_minor": 0,
  "metadata": {
    "colab": {
      "name": "lqr_vs_dp_demo.ipynb",
      "provenance": [],
      "private_outputs": true,
      "include_colab_link": true
    },
    "kernelspec": {
      "name": "python3",
      "display_name": "Python 3"
    },
    "language_info": {
      "name": "python"
    }
  },
  "cells": [
    {
      "cell_type": "markdown",
      "metadata": {
        "id": "view-in-github",
        "colab_type": "text"
      },
      "source": [
        "<a href=\"https://colab.research.google.com/github/SherbyRobotics/pyro/blob/colab/examples/notebooks/lqr_vs_dp_demo.ipynb\" target=\"_parent\"><img src=\"https://colab.research.google.com/assets/colab-badge.svg\" alt=\"Open In Colab\"/></a>"
      ]
    },
    {
      "cell_type": "markdown",
      "source": [
        "### DP vs LQR for a pendulum swing-up\n",
        "\n",
        "This page shows a quick demo of how DP (dynamic programming) can be used for finding global optimal control policy of non-linear systems."
      ],
      "metadata": {
        "id": "W_l3riKM0sPC"
      }
    },
    {
      "cell_type": "markdown",
      "source": [
        "<img src=\"https://alexandregirardca.files.wordpress.com/2021/12/lqr_vs_dp.jpg\" alt=\"DP vs LQR\" width=\"600\" height=\"400\">"
      ],
      "metadata": {
        "id": "wRzNDZrW0Y9I"
      }
    },
    {
      "cell_type": "markdown",
      "metadata": {
        "id": "eOFBWst7WmCb"
      },
      "source": [
        "**Importing Librairies**\n",
        "\n",
        "This page uses the toolbox *pyro*."
      ]
    },
    {
      "cell_type": "code",
      "metadata": {
        "id": "tH-1a9VJGXi8"
      },
      "source": [
        "!git clone -b dev-alex https://github.com/SherbyRobotics/pyro\n",
        "import sys\n",
        "sys.path.append('/content/pyro')"
      ],
      "execution_count": null,
      "outputs": []
    },
    {
      "cell_type": "code",
      "metadata": {
        "id": "dBPjwyeEGrxo"
      },
      "source": [
        "import pyro\n",
        "import numpy as np\n",
        "import matplotlib.pyplot as plt\n",
        "\n",
        "from IPython import display\n",
        "!apt install ffmpeg\n",
        "\n",
        "from pyro.dynamic  import pendulum\n",
        "from pyro.planning import discretizer\n",
        "from pyro.analysis import costfunction\n",
        "from pyro.planning import valueiteration\n",
        "from pyro.control  import lqr"
      ],
      "execution_count": null,
      "outputs": []
    },
    {
      "cell_type": "markdown",
      "metadata": {
        "id": "cau_ePoSW6Z_"
      },
      "source": [
        "**Defining a dynamic system model**\n",
        "\n",
        "Here we load a already defined class including all the dynamic equations"
      ]
    },
    {
      "cell_type": "code",
      "metadata": {
        "id": "5pf-lSEZG5gy"
      },
      "source": [
        "sys  = pendulum.SinglePendulum()\n",
        "\n",
        "sys.xbar  = np.array([ -3.14 , 0 ]) # target and linearization point (upright position)"
      ],
      "execution_count": null,
      "outputs": []
    },
    {
      "cell_type": "markdown",
      "metadata": {
        "id": "KuOjof8uXu6h"
      },
      "source": [
        "**Defining the cost function**\n",
        "\n",
        "Here both controller are synthetized using a standard quadratic cost function or the type:\n",
        "\n",
        "$J = \\int  ( x' Q x + u' R u ) dt$"
      ]
    },
    {
      "cell_type": "code",
      "metadata": {
        "id": "SrgvgYn6X3g9"
      },
      "source": [
        "# Cost Function\n",
        "qcf = costfunction.QuadraticCostFunction.from_sys( sys ) \n",
        "\n",
        "qcf.INF  = 10000     # The value iteration algo needs this parameter\n",
        "\n",
        "qcf.Q[0,0] = 1\n",
        "qcf.Q[1,1] = 1\n",
        "qcf.R[0,0] = 1\n",
        "\n",
        "print('Q=\\n',qcf.Q)\n",
        "print('R=\\n',qcf.R)"
      ],
      "execution_count": null,
      "outputs": []
    },
    {
      "cell_type": "markdown",
      "source": [
        "**Synthetizing the \"optimal\" controllers**"
      ],
      "metadata": {
        "id": "fA6gXfzm_V3L"
      }
    },
    {
      "cell_type": "markdown",
      "source": [
        "*LQR controller*\n",
        "\n",
        "Here we use a library function that: \\\\\n",
        "1) linearize the pendulum equations at the nominal state $\\bar x$ \\\\\n",
        "2) use obtained linearized equations and the defined cost function to compute the LQR controller solution"
      ],
      "metadata": {
        "id": "ku0-yEtz2zSt"
      }
    },
    {
      "cell_type": "code",
      "source": [
        "lqr_ctl = lqr.linearize_and_synthesize_lqr_controller(sys, qcf)"
      ],
      "metadata": {
        "id": "lCu25ri-3MZA"
      },
      "execution_count": null,
      "outputs": []
    },
    {
      "cell_type": "markdown",
      "metadata": {
        "id": "P2wLQ8lDYY9S"
      },
      "source": [
        "*VI controller*\n",
        "\n",
        "Here we use a library function that: \\\\\n",
        "1) discretize the domain of the state and control inputs of the system \\\\\n",
        "2a) *Commented line:* Use the value-iteraton to compute optimal cost to go and control actions \\\\\n",
        "2b) Alternatively loads the results of a previous computation \\\\\n",
        "3) Generate a continuous control law by interpolating in the computed discrete solution"
      ]
    },
    {
      "cell_type": "code",
      "source": [
        "\n",
        "vi = valueiteration.ValueIteration_2D( discretizer.GridDynamicSystem( sys ) , qcf )\n",
        "\n",
        "vi.initialize()\n",
        "#vi.compute_steps(200,True). # To compute from sratch instead of loading the solution\n",
        "vi.load_data('/content/pyro/examples/demo/simple_pendulum_vi') # Loading a pre-computed solution\n",
        "vi.assign_interpol_controller()\n",
        "\n",
        "vi_ctl = vi.ctl"
      ],
      "metadata": {
        "id": "FAaSNGZJ1mDQ"
      },
      "execution_count": null,
      "outputs": []
    },
    {
      "cell_type": "markdown",
      "source": [
        "**Showing the computed control laws**\n",
        "\n",
        "The next lines generate two figures showing a map illustrating the computed optimal torque to use as a function of the two system states: \\\\\n",
        "$τ=f(θ,\\dotθ)$"
      ],
      "metadata": {
        "id": "3RNstCw33nMl"
      }
    },
    {
      "cell_type": "markdown",
      "source": [
        "LQR"
      ],
      "metadata": {
        "id": "tkfjUmUmeXvI"
      }
    },
    {
      "cell_type": "code",
      "source": [
        "lqr_ctl.plot_control_law(sys=sys, n=100)"
      ],
      "metadata": {
        "id": "eOQDLVl6eX-j"
      },
      "execution_count": null,
      "outputs": []
    },
    {
      "cell_type": "markdown",
      "source": [
        "VI"
      ],
      "metadata": {
        "id": "yShhROBAeYO6"
      }
    },
    {
      "cell_type": "code",
      "source": [
        "vi_ctl.plot_control_law(sys=sys, n=100)"
      ],
      "metadata": {
        "id": "h9qMUO1P3w0g"
      },
      "execution_count": null,
      "outputs": []
    },
    {
      "cell_type": "markdown",
      "source": [
        "We can see that the lqr solution (first figure) is a linear map, while the VI solution (second figure) is a non-linear map that follow the natural dynamics. Also note that the range of required torque are much larger with the lqr solution. The LQR solution is the optimal solution locally in the linear range of the target state while the VI solution is the global optimal solution. If we zoom arround the target state $[\\theta=-\\pi,\\dot\\theta=0]$, locally both solutions will tends to the same linear solution."
      ],
      "metadata": {
        "id": "RDYbt4xsGntk"
      }
    },
    {
      "cell_type": "markdown",
      "source": [
        "**Simulations**\n",
        "\n",
        "Here we show both control law in action, with a trajectory starting at the state $[\\theta=-\\pi,\\dot\\theta=0]$."
      ],
      "metadata": {
        "id": "_AzXZ49f4Ude"
      }
    },
    {
      "cell_type": "code",
      "source": [
        "x0 = np.array([ 1 ,0])"
      ],
      "metadata": {
        "id": "f_HnxHQi5rrN"
      },
      "execution_count": null,
      "outputs": []
    },
    {
      "cell_type": "markdown",
      "source": [
        ""
      ],
      "metadata": {
        "id": "IixlgChmxQwf"
      }
    },
    {
      "cell_type": "markdown",
      "source": [
        "LQR"
      ],
      "metadata": {
        "id": "tO86y-ZHeJ54"
      }
    },
    {
      "cell_type": "code",
      "source": [
        "cl_sys_lqr      =   lqr_ctl + sys \n",
        "cl_sys_lqr.x0   = x0\n",
        "cl_sys_lqr.plot_trajectory('xu')\n"
      ],
      "metadata": {
        "id": "VgWv2BzxeKKw"
      },
      "execution_count": null,
      "outputs": []
    },
    {
      "cell_type": "markdown",
      "source": [
        "VI"
      ],
      "metadata": {
        "id": "7zPaZq1OeKaH"
      }
    },
    {
      "cell_type": "code",
      "source": [
        "cl_sys_vi      =   vi_ctl + sys \n",
        "cl_sys_vi.x0   = x0\n",
        "cl_sys_vi.plot_trajectory('xu')"
      ],
      "metadata": {
        "id": "kR-BLIc2eKq8"
      },
      "execution_count": null,
      "outputs": []
    },
    {
      "cell_type": "markdown",
      "source": [
        "We can see that both solutions converge converge to the target. The simulation with the LQR shows that the pendulum goes directly toward the goal while the VI solution do a \"pumping action\" before swinging up toward the goal, in order to minimize the required torques. The VI solution achieve the same goal here with 12x less maximum torque than the LQR solution. Note that the torque in the VI simulation is \"noisy\" because the VI algorithm output a is discrete look-up table which lead to this type of impecfection when converting back into a continuous domain. "
      ],
      "metadata": {
        "id": "tZEypceVL3rg"
      }
    },
    {
      "cell_type": "markdown",
      "source": [
        "**Animation of the simulations**\n",
        "\n",
        "Here the following function generates and show animations of the same trajectories."
      ],
      "metadata": {
        "id": "e1Qe3Ux_5yzU"
      }
    },
    {
      "cell_type": "markdown",
      "source": [
        "LQR"
      ],
      "metadata": {
        "id": "NWKZYaYyd6WR"
      }
    },
    {
      "cell_type": "code",
      "source": [
        "video_vi = cl_sys_lqr.generate_simulation_html_video()\n",
        "html_vi  = display.HTML(video_vi)\n",
        "display.display(html_vi)"
      ],
      "metadata": {
        "id": "r3i_hHuGd_lP"
      },
      "execution_count": null,
      "outputs": []
    },
    {
      "cell_type": "markdown",
      "source": [
        "VI"
      ],
      "metadata": {
        "id": "5_4wcVsUeEeo"
      }
    },
    {
      "cell_type": "code",
      "metadata": {
        "id": "lfjr9zXlYYMb"
      },
      "source": [
        "video_vi = cl_sys_vi.generate_simulation_html_video()\n",
        "html_vi  = display.HTML(video_vi)\n",
        "display.display(html_vi)"
      ],
      "execution_count": null,
      "outputs": []
    },
    {
      "cell_type": "markdown",
      "source": [
        "We see here the pumping action of the VI solution. This is one advantage of the VI algorithm: finding globally optimal solution for non-linear systems."
      ],
      "metadata": {
        "id": "5L43pPu_ONYC"
      }
    },
    {
      "cell_type": "markdown",
      "source": [
        "**Phase-plane trajectory**\n",
        "\n",
        "Here the same trajectory are shown on the phase-plane of the pendulum. Here the vector field illustrate the natural dynamics allong which the pendulum would evolve naturally if no torque are applied on the system."
      ],
      "metadata": {
        "id": "WYaQH0iEO8Y6"
      }
    },
    {
      "cell_type": "markdown",
      "source": [
        "LQR"
      ],
      "metadata": {
        "id": "Sm8KYNCzfYa7"
      }
    },
    {
      "cell_type": "code",
      "source": [
        "cl_sys_lqr.plot_phase_plane_trajectory_closed_loop()"
      ],
      "metadata": {
        "id": "DOkB8vjifbyh"
      },
      "execution_count": null,
      "outputs": []
    },
    {
      "cell_type": "markdown",
      "source": [
        "VI"
      ],
      "metadata": {
        "id": "ugf8FbjVfb94"
      }
    },
    {
      "cell_type": "code",
      "source": [
        "cl_sys_vi.plot_phase_plane_trajectory_closed_loop()"
      ],
      "metadata": {
        "id": "kFJZHGIYOrHf"
      },
      "execution_count": null,
      "outputs": []
    },
    {
      "cell_type": "markdown",
      "source": [
        "We can see here why the VI solution require less torque for the swing-up, the VI solution leverage the natural dynamics instead of trying to fight it with large torques."
      ],
      "metadata": {
        "id": "YPWU7QXwPgHn"
      }
    },
    {
      "cell_type": "markdown",
      "source": [
        "**Performance**\n",
        "\n",
        "Here the performance, in terms of the defined cost-function $J = \\int  ( x' Q x + u' R u ) dt$, is compared. Note, $dJ =  x' Q x + u' R u $ is the increment of cost at each instant and $J$ is the cummulative cost."
      ],
      "metadata": {
        "id": "end7Y3uOQnAA"
      }
    },
    {
      "cell_type": "markdown",
      "source": [
        "LQR"
      ],
      "metadata": {
        "id": "TwV32_EUfho1"
      }
    },
    {
      "cell_type": "code",
      "source": [
        "cl_sys_lqr.plot_trajectory('j')"
      ],
      "metadata": {
        "id": "DGoA7kcDfhzr"
      },
      "execution_count": null,
      "outputs": []
    },
    {
      "cell_type": "markdown",
      "source": [
        "VI"
      ],
      "metadata": {
        "id": "MOOr2p7Efh9J"
      }
    },
    {
      "cell_type": "code",
      "source": [
        "cl_sys_vi.plot_trajectory('j')"
      ],
      "metadata": {
        "id": "TnDhVYBmO7oQ"
      },
      "execution_count": null,
      "outputs": []
    },
    {
      "cell_type": "markdown",
      "source": [
        "We see that the LQR solution (first figure) is about 4x worst then the VI solution (second figure), based on the cost function."
      ],
      "metadata": {
        "id": "zTFAaWNhRavr"
      }
    },
    {
      "cell_type": "markdown",
      "source": [
        "**Take home message**\n",
        "\n",
        "Globally optimal solutions are often orders of magnitudes better than local solution when the system to control are highly non linear, like the pendulum here (12x on the maximum required torque and 4x on the performance). Dynamic programming is one technique to find globally optimal solutions."
      ],
      "metadata": {
        "id": "l68CEaCLSR9o"
      }
    }
  ]
}