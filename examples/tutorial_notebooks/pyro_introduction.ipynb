{
  "nbformat": 4,
  "nbformat_minor": 0,
  "metadata": {
    "colab": {
      "name": "pyro_introduction.ipynb",
      "provenance": [],
      "private_outputs": true,
      "collapsed_sections": [],
      "include_colab_link": true
    },
    "kernelspec": {
      "name": "python3",
      "display_name": "Python 3"
    },
    "language_info": {
      "name": "python"
    }
  },
  "cells": [
    {
      "cell_type": "markdown",
      "metadata": {
        "id": "view-in-github",
        "colab_type": "text"
      },
      "source": [
        "<a href=\"https://colab.research.google.com/github/SherbyRobotics/pyro/blob/colab/examples/notebooks/pyro_introduction.ipynb\" target=\"_parent\"><img src=\"https://colab.research.google.com/assets/colab-badge.svg\" alt=\"Open In Colab\"/></a>"
      ]
    },
    {
      "cell_type": "markdown",
      "source": [
        "# Pyro\n",
        "\n",
        "## An object-based toolbox for robot dynamic simulation, analysis, control and planning\n",
        "\n",
        "\n",
        "This page is an introduction to the basic functionnality of pyro, an open-source python library developped at Université de Sherbrooke and hosted here: https://github.com/SherbyRobotics/pyro"
      ],
      "metadata": {
        "id": "OfiozzVs1Upg"
      }
    },
    {
      "cell_type": "markdown",
      "source": [
        "<table>\n",
        "  <tr>\n",
        "    <th>\n",
        "    <img src=\"https://user-images.githubusercontent.com/16725496/162986261-b3f6950b-e417-403b-8e81-81b30a542d6c.gif\" alt=\"rocket\" width=\"500\"/>\n",
        "    </th>\n",
        "    <th>\n",
        "    <img src=\"https://user-images.githubusercontent.com/16725496/163005905-ad2205b0-150d-44de-bd43-a3b31a0bf10e.gif\" alt=\"cartpole\" width=\"500\"/>\n",
        "    </th> \n",
        "  </tr>\n",
        "  <tr>\n",
        "    <td>\n",
        "      <img src=\"https://user-images.githubusercontent.com/16725496/163005883-5ec9b6f8-d8ab-44b1-bc9d-ac5ca2d6b4a9.gif\" alt=\"drone\" width=\"500\"/>\n",
        "    </td>\n",
        "    <td>\n",
        "    <img src=\"https://user-images.githubusercontent.com/16725496/163005950-665132ae-c1d5-486c-8bf1-3c3fa9aa4140.gif\" alt=\"mass-spring\" width=\"500\"/>\n",
        "    </td> \n",
        "  </tr>\n",
        "</table>"
      ],
      "metadata": {
        "id": "sFn7UuY7iH3i"
      }
    },
    {
      "cell_type": "markdown",
      "source": [
        "## Tutorial content\n",
        "\n",
        "\n",
        "1.   **The Dynamic System class and basic functionnality (this page)**\n",
        "2.   [Creating a custom dynamic class](https://colab.research.google.com/drive/1ILfRpL1zgiQZBOxwtbbpe0nl2znvzdWl?usp=sharing)\n",
        "3.   [Closed-loop system and controllers objects](https://colab.research.google.com/drive/1mog1HAFN2NFEdw6sPudzW2OaTk_li0Vx?usp=sharing)\n",
        "4.   The Linear System class (comin soon..)\n",
        "4.   The Mechanical System class (coming soon..)\n",
        "5.   [The Manipulator Robot class](https://colab.research.google.com/drive/1OILAhXRxM1r5PEB1BWaYtbR147Ff3gr1?usp=sharing)\n",
        "\n"
      ],
      "metadata": {
        "id": "UFUZaXXQ2fMq"
      }
    },
    {
      "cell_type": "markdown",
      "source": [
        "## Library Architecture ##\n",
        "\n",
        "The concept of this toolbox is a hierachy of \"dynamic system\" objects, from the most generic representation (any non-linear differential equations) to more system specific representations such as mechanical system (second order equations), linear state space, manipulator equations, etc. This structure is then leveraged by analysis tools, from generic tools that work for all sub-class of dynamic systems such as running simulation and phase-plane analysis, to system-specific tools that leverage specific system propreties such as modal analysis for linear sub-class.\n",
        "\n",
        "<img width=\"1000\" src=\"https://user-images.githubusercontent.com/16725496/163312294-e33d791f-9cc0-48e1-acb3-8a0ebfc0c067.jpg\" class=\"center\">"
      ],
      "metadata": {
        "id": "5CJoXU2EjZi8"
      }
    },
    {
      "cell_type": "markdown",
      "metadata": {
        "id": "eOFBWst7WmCb"
      },
      "source": [
        "## Importing Pyro\n",
        "\n",
        "This code show a quick exemple of\n",
        "\n",
        "1.   Cloning pyro code source from the github repository\n",
        "2.   Adding pyro folder to the python path\n",
        "3.   Importing the library to the python interpreter\n",
        "\n"
      ]
    },
    {
      "cell_type": "code",
      "metadata": {
        "id": "tH-1a9VJGXi8"
      },
      "source": [
        "!git clone https://github.com/SherbyRobotics/pyro\n",
        "import sys\n",
        "sys.path.append('/content/pyro')\n",
        "import pyro"
      ],
      "execution_count": null,
      "outputs": []
    },
    {
      "cell_type": "markdown",
      "source": [
        "\n",
        "Here we import other basic python tools:\n",
        "\n",
        "*   Numpy: the python library for linear algebra, on top of which pyro is built. \n",
        "*   Display: that is needed to show animation in the colab environment. If pyro is used locally then this is not needed.\n",
        "*   Inspect: that we will use here only for printing source code in for this tutorial\n",
        "\n"
      ],
      "metadata": {
        "id": "kr5SoAHNhnZ7"
      }
    },
    {
      "cell_type": "code",
      "source": [
        "import numpy as np\n",
        "from IPython import display\n",
        "import inspect"
      ],
      "metadata": {
        "id": "WMPkS-g9hjNl"
      },
      "execution_count": null,
      "outputs": []
    },
    {
      "cell_type": "markdown",
      "source": [
        "# The Dynamic system class\n",
        "\n",
        "Pyro is built on the concept of dynamic system classes, with standarized methods and properties. Multiple analysis and control tools are built to use the standarize methodes and properties.\n",
        "\n",
        "**The core of a dynamic system is defined by a differential equation:** \\\\\n",
        "$\\dot{x} = f(x,u,t)$ \\\\\n",
        "where $x$ is a state vector, $u$ is a control input vector $u$ and $t$ is the time. This function caracterize the dynamics of the system, and is used to compute the evolution of the system when a simulation is conducted.\n",
        "\n",
        "Three (optionnal) functions can be defined, to take advantage of additionnal tools:\n",
        "* **The output equation** $y = h(x,u,t)$, that compute variables that sensor would read for usage by a controller (by default $y = x$)\n",
        "* **The configuration equation** $q = xu2q(x,u,t)$, that compute variables describing the configuration of the system (by default $q = x$)\n",
        "* **The forward kinematic equation** $lines = forward\\_kinematic\\_line( q )$, that compute a graphic output for given configurations variable $q$ (by default the graphical outputs are dots with coordinates (x=q,y=0,z=0).\n",
        "\n",
        "The following figure summarize how those function are related using a block diagram representation. \n",
        "<img width=\"900\" src=\"https://user-images.githubusercontent.com/16725496/163312300-faa7fe2c-178e-4c58-ae6c-4b256fd9ab92.jpg\" class=\"center\">\n",
        "\n"
      ],
      "metadata": {
        "id": "aTzMjMPmdkuv"
      }
    },
    {
      "cell_type": "markdown",
      "source": [
        "## Example of basic usage\n",
        "\n",
        "Lets first show how the object are intended to be use when all the core function are defined. Here lets load a mass-spring-damper system to exemplify."
      ],
      "metadata": {
        "id": "iyer2Uki8vKn"
      }
    },
    {
      "cell_type": "code",
      "source": [
        "from pyro.dynamic import massspringdamper       # Here we load pyro library of mass-spring-damper\n",
        "\n",
        "sys = massspringdamper.TwoMass()                # Here we create an instance of the TwoMass class"
      ],
      "metadata": {
        "id": "JkhwvY5e9WcJ"
      },
      "execution_count": null,
      "outputs": []
    },
    {
      "cell_type": "markdown",
      "source": [
        "First to conduct simulation, we can set initial conditions, compute the trajectory, then plot the results:"
      ],
      "metadata": {
        "id": "2caJOzCg95Qx"
      }
    },
    {
      "cell_type": "code",
      "source": [
        "sys.x0 = np.array([ 1.0, 2.0, 0.0, 0.0])\n",
        "sys.compute_trajectory( tf = 15.0 )\n",
        "sys.plot_trajectory()"
      ],
      "metadata": {
        "id": "etSSb7MS-Gde"
      },
      "execution_count": null,
      "outputs": []
    },
    {
      "cell_type": "markdown",
      "source": [
        "Results of a simulation are store in a trajectory object save at $sys.traj$. The trajectory object contains the time vector of x, u, y, t and methods for interpolating in those vector:"
      ],
      "metadata": {
        "id": "j_ZQuykiDvW3"
      }
    },
    {
      "cell_type": "code",
      "source": [
        "print('This is the dimension of the matrix with the states trajectory: \\n'  , sys.traj.x.shape      )\n",
        "print('This is the the states trajectory data: \\n'                          , sys.traj.x            )\n",
        "print('This is the dimension of the matrix with the time  trajectory: \\n'   , sys.traj.t.shape      )\n",
        "print('This is the the time trajectory data: \\n'                            , sys.traj.t            )\n",
        "print('This find the value of x vector at time t: \\n  x(t=2)= '             , sys.traj.t2x( t = 2 ) )"
      ],
      "metadata": {
        "id": "nm8eXptjDvmk"
      },
      "execution_count": null,
      "outputs": []
    },
    {
      "cell_type": "markdown",
      "source": [
        "If foward kinematic functions have been defined we can generate an animation of this trajectory:"
      ],
      "metadata": {
        "id": "9qQMxauz-UJw"
      }
    },
    {
      "cell_type": "code",
      "source": [
        "# This would work locally in a python console\n",
        "#sys.animate_simulation()\n",
        "\n",
        "# This is the way for showing an animation on colab (we need to generate html)\n",
        "ani  = sys.generate_simulation_html_video()\n",
        "html = display.HTML( ani )\n",
        "display.display(html)"
      ],
      "metadata": {
        "id": "R4RbzBnY-fsn"
      },
      "execution_count": null,
      "outputs": []
    },
    {
      "cell_type": "markdown",
      "source": [
        "## Adding a input to the system simulation\n",
        "\n",
        "To include input signal $u$ to the simulation (in open-loop, for closed-loop controller see the section on this topic), a constant value can be included by changing the attribute $sys.ubar$. A time-dependent sequence can be customized by overloading the function $sys.t2u$."
      ],
      "metadata": {
        "id": "VR5-qh1Nsvvh"
      }
    },
    {
      "cell_type": "code",
      "source": [
        "sys.ubar[0] = 1\n",
        "\n",
        "sys.compute_trajectory()  # This re-compute a trajectory with new sys.ubar and sys.x0 values\n",
        "\n",
        "ani  = sys.generate_simulation_html_video()\n",
        "html = display.HTML( ani )\n",
        "display.display(html)"
      ],
      "metadata": {
        "id": "CFzhYH_ituls"
      },
      "execution_count": null,
      "outputs": []
    },
    {
      "cell_type": "code",
      "source": [
        "def f(t):\n",
        "  u = np.sin( 3 * t )\n",
        "  return np.array([u])\n",
        "\n",
        "sys.t2u = f\n",
        "\n",
        "sys.compute_trajectory()\n",
        "\n",
        "ani  = sys.generate_simulation_html_video()\n",
        "html = display.HTML( ani )\n",
        "display.display(html)"
      ],
      "metadata": {
        "id": "dZ4FUwIWt5FC"
      },
      "execution_count": null,
      "outputs": []
    },
    {
      "cell_type": "markdown",
      "source": [
        "The input trajectory can be plotted with this command:"
      ],
      "metadata": {
        "id": "tunQuqYivXs0"
      }
    },
    {
      "cell_type": "code",
      "source": [
        "sys.plot_trajectory('u')"
      ],
      "metadata": {
        "id": "VoegHvhZvW9o"
      },
      "execution_count": null,
      "outputs": []
    },
    {
      "cell_type": "markdown",
      "source": [
        "Or both state and input trajectory together with this command:"
      ],
      "metadata": {
        "id": "lPoeEeiXvlch"
      }
    },
    {
      "cell_type": "code",
      "source": [
        "sys.plot_trajectory('xu')"
      ],
      "metadata": {
        "id": "zYvz4UHXvgw4"
      },
      "execution_count": null,
      "outputs": []
    },
    {
      "cell_type": "markdown",
      "source": [
        "The dynamic system object contains attribute for the size and label of those signals that are used when generating the figures:"
      ],
      "metadata": {
        "id": "Twth225Gv93B"
      }
    },
    {
      "cell_type": "code",
      "source": [
        "print('The system has a state vector with dimension: ',sys.n)\n",
        "print('The system has a state vector with labels: ',sys.state_label)\n",
        "print('The system has a state vector with units: ',sys.state_units)"
      ],
      "metadata": {
        "id": "-kKGDCWrOnQZ"
      },
      "execution_count": null,
      "outputs": []
    },
    {
      "cell_type": "code",
      "source": [
        "print('The system has a input vector with dimension: ',sys.m)\n",
        "print('The system has a input vector with labels: ',sys.input_label)\n",
        "print('The system has a input vector with units: ',sys.input_units)"
      ],
      "metadata": {
        "id": "xIYP2-2F5xDi"
      },
      "execution_count": null,
      "outputs": []
    },
    {
      "cell_type": "markdown",
      "source": [
        "## Shorcuts for quick analysis\n",
        "Here a few example of available analysis tool implemented as method on dynamic system object:"
      ],
      "metadata": {
        "id": "60TG4Xc0_Wzv"
      }
    },
    {
      "cell_type": "code",
      "source": [
        "# Phase-plane plot\n",
        "sys.plot_phase_plane(0,2)"
      ],
      "metadata": {
        "id": "c7bi0dxC_hVp"
      },
      "execution_count": null,
      "outputs": []
    },
    {
      "cell_type": "code",
      "source": [
        "# Trajectory in the phase plane\n",
        "sys.plot_phase_plane_trajectory(0, 2)"
      ],
      "metadata": {
        "id": "0K4zzGQ63qgs"
      },
      "execution_count": null,
      "outputs": []
    },
    {
      "cell_type": "markdown",
      "source": [
        ""
      ],
      "metadata": {
        "id": "NAek3qOd4E-V"
      }
    },
    {
      "cell_type": "code",
      "source": [
        "# Bode plot\n",
        "sys.plot_linearized_bode()"
      ],
      "metadata": {
        "id": "AgSMNymc_tdt"
      },
      "execution_count": null,
      "outputs": []
    },
    {
      "cell_type": "code",
      "source": [
        "# Pole zero map\n",
        "sys.ubar[0] = 0                 # This set back the nominal input\n",
        "sys.plot_linearized_pz_map()    # This cmd linearize the system arround operating point given by sys.ubar and sys.xbar, and then compute poles"
      ],
      "metadata": {
        "id": "uKV3-b6qAA_c"
      },
      "execution_count": null,
      "outputs": []
    },
    {
      "cell_type": "code",
      "source": [
        "# This would work locally in a python console\n",
        "#sys.animate_linearized_mode( 0 )\n",
        "#sys.animate_linearized_mode( 2 )\n",
        "\n",
        "# This is the way for showing an animation on colab (we need to generate html)\n",
        "ani  = sys.generate_mode_animation_html( 0 )\n",
        "html = display.HTML( ani )\n",
        "display.display(html)"
      ],
      "metadata": {
        "id": "_-BnxyzZmG0K"
      },
      "execution_count": null,
      "outputs": []
    },
    {
      "cell_type": "code",
      "source": [
        "ani  = sys.generate_mode_animation_html( 2 )\n",
        "html = display.HTML( ani )\n",
        "display.display(html)"
      ],
      "metadata": {
        "id": "m_bd3oKgsPqA"
      },
      "execution_count": null,
      "outputs": []
    },
    {
      "cell_type": "markdown",
      "source": [
        "## Looking under the hood\n",
        "\n",
        "Here we look at the source code of the core function of the TwoMass class that we used in our examples. The differential equation caracterizing the system has the following source code:"
      ],
      "metadata": {
        "id": "dFkH8uzIjgT8"
      }
    },
    {
      "cell_type": "code",
      "source": [
        "print( inspect.getsource( sys.f ))"
      ],
      "metadata": {
        "id": "u5t9qzWaOZC7"
      },
      "execution_count": null,
      "outputs": []
    },
    {
      "cell_type": "markdown",
      "source": [
        "For this system, the differential equation used the state-space representation: \n",
        "\n",
        "$\\dot{x} =  A x + B u$\n",
        "\n",
        "The dynamics is defined by the matrix $A$ and $B$ that are attribute of the $sys$ class:"
      ],
      "metadata": {
        "id": "RFSxIgHxw-jZ"
      }
    },
    {
      "cell_type": "code",
      "source": [
        "print('A=\\n',sys.A)\n",
        "print('B=\\n',sys.B)"
      ],
      "metadata": {
        "id": "WkV3n5ZBpW4C"
      },
      "execution_count": null,
      "outputs": []
    },
    {
      "cell_type": "markdown",
      "source": [
        "Note that this class has a specific method to compute the $A,B,C,D$ matrices given mass, spring and damping parameters:"
      ],
      "metadata": {
        "id": "rsECa8Wn0V0X"
      }
    },
    {
      "cell_type": "code",
      "source": [
        "print( inspect.getsource( sys.compute_ABCD ))"
      ],
      "metadata": {
        "id": "L7e179u30kYu"
      },
      "execution_count": null,
      "outputs": []
    },
    {
      "cell_type": "markdown",
      "source": [
        "Most type of dynamic system class in pyro have their dynamic equation parametrized with system parameter that are attribute of the object, to allow quick modifications on the fly of the paramters."
      ],
      "metadata": {
        "id": "8lrbKCqT0sMq"
      }
    },
    {
      "cell_type": "markdown",
      "source": [
        "The output equation also uses the state-space representation:"
      ],
      "metadata": {
        "id": "v1g_FH1TzSUU"
      }
    },
    {
      "cell_type": "code",
      "source": [
        "print( inspect.getsource( sys.h ))"
      ],
      "metadata": {
        "id": "1LomOrcgjxSA"
      },
      "execution_count": null,
      "outputs": []
    },
    {
      "cell_type": "markdown",
      "source": [
        "For this system the configuration variables are simply the first two states out of the four (the position of mass 1 and the position of mass 2 ):"
      ],
      "metadata": {
        "id": "EuAr4rLy6LLc"
      }
    },
    {
      "cell_type": "code",
      "source": [
        "print( inspect.getsource( sys.xut2q ))"
      ],
      "metadata": {
        "id": "OtVIXFNIjz0j"
      },
      "execution_count": null,
      "outputs": []
    },
    {
      "cell_type": "markdown",
      "source": [
        "The following shows the source code of the function that compute lines given the 2 configuration variable. It is a little bit long because here we draw two moving spring and we must define many small lines."
      ],
      "metadata": {
        "id": "t5jvv2q46fvA"
      }
    },
    {
      "cell_type": "code",
      "source": [
        "print( inspect.getsource( sys.forward_kinematic_lines ))"
      ],
      "metadata": {
        "id": "enhB0Qn_j5K2"
      },
      "execution_count": null,
      "outputs": []
    }
  ]
}