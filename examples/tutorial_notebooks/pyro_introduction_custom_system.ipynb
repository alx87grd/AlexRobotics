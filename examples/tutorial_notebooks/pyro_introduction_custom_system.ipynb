{
  "nbformat": 4,
  "nbformat_minor": 0,
  "metadata": {
    "colab": {
      "name": "pyro_introduction_custom_system.ipynb",
      "provenance": [],
      "private_outputs": true,
      "collapsed_sections": [],
      "include_colab_link": true
    },
    "kernelspec": {
      "name": "python3",
      "display_name": "Python 3"
    },
    "language_info": {
      "name": "python"
    }
  },
  "cells": [
    {
      "cell_type": "markdown",
      "metadata": {
        "id": "view-in-github",
        "colab_type": "text"
      },
      "source": [
        "<a href=\"https://colab.research.google.com/github/SherbyRobotics/pyro/blob/colab/examples/notebooks/pyro_introduction_custom_system.ipynb\" target=\"_parent\"><img src=\"https://colab.research.google.com/assets/colab-badge.svg\" alt=\"Open In Colab\"/></a>"
      ]
    },
    {
      "cell_type": "markdown",
      "source": [
        "# Pyro\n",
        "\n",
        "## An object-based toolbox for robot dynamic simulation, analysis, control and planning\n",
        "\n",
        "\n",
        "This page is an introduction to the basic functionnality of pyro, an open-source python library developped at Université de Sherbrooke and hosted here: https://github.com/SherbyRobotics/pyro"
      ],
      "metadata": {
        "id": "OfiozzVs1Upg"
      }
    },
    {
      "cell_type": "markdown",
      "source": [
        "## Tutorial content\n",
        "\n",
        "\n",
        "1.   [The Dynamic System class and basic functionnality](https://colab.research.google.com/drive/18eEL-n-dv9JZz732nFCMtqMThDcfD2Pr?usp=sharing)\n",
        "2.   **Creating a custom dynamic class (this page)**\n",
        "3.   [Closed-loop system and controllers objects](https://colab.research.google.com/drive/1mog1HAFN2NFEdw6sPudzW2OaTk_li0Vx?usp=sharing)\n",
        "4.   The Linear System class (comin soon..)\n",
        "4.   The Mechanical System class (coming soon..)\n",
        "5.   [The Manipulator Robot class](https://colab.research.google.com/drive/1OILAhXRxM1r5PEB1BWaYtbR147Ff3gr1?usp=sharing)\n"
      ],
      "metadata": {
        "id": "61B4HHFqOMb8"
      }
    },
    {
      "cell_type": "markdown",
      "source": [
        "## Importing Pyro\n",
        "\n",
        "This code show a quick exemple of\n",
        "\n",
        "1.   Cloning pyro code source from the github repository\n",
        "2.   Adding pyro folder to the python path\n",
        "3.   Importing the library to the python interpreter"
      ],
      "metadata": {
        "id": "b0OMC5RNOX_R"
      }
    },
    {
      "cell_type": "code",
      "source": [
        "!git clone https://github.com/SherbyRobotics/pyro\n",
        "import sys\n",
        "sys.path.append('/content/pyro')\n",
        "import pyro"
      ],
      "metadata": {
        "id": "Od5rIvENOXFw"
      },
      "execution_count": null,
      "outputs": []
    },
    {
      "cell_type": "markdown",
      "source": [
        "\n",
        "Here we import other basic python tools:\n",
        "\n",
        "*   Numpy: the python library for linear algebra, on top of which pyro is built. \n",
        "*   Display: that is needed to show animation in the colab environment. If pyro is used locally then this is not needed.\n",
        "*   Inspect: that we will use here only for printing source code in for this tutorial"
      ],
      "metadata": {
        "id": "E0MPj8ksOe5e"
      }
    },
    {
      "cell_type": "code",
      "source": [
        "import numpy as np\n",
        "from IPython import display\n",
        "import inspect"
      ],
      "metadata": {
        "id": "l1novJQSOhW9"
      },
      "execution_count": null,
      "outputs": []
    },
    {
      "cell_type": "markdown",
      "source": [
        "# The Dynamic system class\n",
        "\n",
        "Pyro is built on the concept of dynamic system classes, with standarized methods and properties. Multiple analysis and control tools are built to use the standarize methodes and properties.\n",
        "\n",
        "**The core of a dynamic system is defined by a differential equation:** \\\\\n",
        "$\\dot{x} = f(x,u,t)$ \\\\\n",
        "where $x$ is a state vector, $u$ is a control input vector $u$ and $t$ is the time. This function caracterize the dynamics of the system, and is used to compute the evolution of the system when a simulation is conducted.\n",
        "\n",
        "Three (optionnal) functions can be defined, to take advantage of additionnal tools:\n",
        "* **The output equation** $y = h(x,u,t)$, that compute variables that sensor would read for usage by a controller (by default $y = x$)\n",
        "* **The configuration equation** $q = xu2q(x,u,t)$, that compute variables describing the configuration of the system (by default $q = x$)\n",
        "* **The forward kinematic equation** $lines = forward\\_kinematic\\_line( q )$, that compute a graphic output for given configurations variable $q$ (by default the graphical outputs are dots with coordinates (x=q,y=0,z=0).\n",
        "\n",
        "The following figure summarize how those function are related using a block diagram representation. \n",
        "<img width=\"900\" src=\"https://user-images.githubusercontent.com/16725496/163312300-faa7fe2c-178e-4c58-ae6c-4b256fd9ab92.jpg\" class=\"center\">"
      ],
      "metadata": {
        "id": "MF8d7CfLOjdN"
      }
    },
    {
      "cell_type": "markdown",
      "source": [
        "# A simple custom class\n",
        "\n",
        "Here we create a simple custom dynamic system class. We will represent the dynamics:\n",
        "\n",
        "$ \\dot{x} = x + u + t$\n",
        "\n",
        "All custom class should inherite from another dynamic system class, the most generic mother class to use is the system.ContinuousDynamicSystem that include methods generic to all types of dynamic systems."
      ],
      "metadata": {
        "id": "BBMvLVLhOvWO"
      }
    },
    {
      "cell_type": "code",
      "source": [
        "from pyro.dynamic import system\n",
        "\n",
        "\n",
        "##############################################################################\n",
        "        \n",
        "class MyCustomClass( system.ContinuousDynamicSystem ):\n",
        "\n",
        "    \n",
        "    ############################\n",
        "    def __init__(self):\n",
        "        \"\"\" \"\"\"\n",
        "\n",
        "        # Dimensions of signal --> Many method will acces those attributes\n",
        "        self.n = 1   \n",
        "        self.m = 1   \n",
        "        self.p = 1\n",
        "        \n",
        "        # This initialize standard params\n",
        "        system.ContinuousDynamicSystem.__init__( self, self.n, self.m, self.p)\n",
        "        \n",
        "        # Here we shows how to customize some labels\n",
        "\n",
        "        self.name = 'The name of my system'\n",
        "\n",
        "        self.state_label = ['The name of the state variable']\n",
        "        self.input_label = ['The name of the input variable']\n",
        "        self.output_label = ['The name of the output variable']\n",
        "\n",
        "        self.state_units = ['[]']\n",
        "        self.input_units = ['[]']\n",
        "        self.output_units = ['[]']\n",
        "\n",
        "\n",
        "    #############################\n",
        "    def f(self, x, u, t):\n",
        "\n",
        "        dx = u + x + t  # State derivative vector, this is the differential equation defining the system\n",
        "        \n",
        "        return dx"
      ],
      "metadata": {
        "id": "sLAvrR-pOx1e"
      },
      "execution_count": null,
      "outputs": []
    },
    {
      "cell_type": "markdown",
      "source": [
        "This is enough to use it!\n",
        "\n",
        "We can simulate the system and use analysis tools:"
      ],
      "metadata": {
        "id": "4lto82efRUI5"
      }
    },
    {
      "cell_type": "code",
      "source": [
        "sys = MyCustomClass()\n",
        "\n",
        "sys.x0   = np.array([ 0 ])\n",
        "sys.ubar = np.array([ 0 ])\n",
        "\n",
        "sys.compute_trajectory( tf = 3 )\n",
        "\n",
        "sys.plot_trajectory('xu')"
      ],
      "metadata": {
        "id": "HYLVf9BBRfod"
      },
      "execution_count": null,
      "outputs": []
    },
    {
      "cell_type": "markdown",
      "source": [
        "By default the graphic output is just dots, one for each state variable:"
      ],
      "metadata": {
        "id": "WSPnzJimSF5D"
      }
    },
    {
      "cell_type": "code",
      "source": [
        "# This would work locally in a python console\n",
        "#sys.animate_simulation()\n",
        "\n",
        "# This is the way for showing an animation on colab (we need to generate html)\n",
        "ani  = sys.generate_simulation_html_video()\n",
        "html = display.HTML( ani )\n",
        "display.display(html)"
      ],
      "metadata": {
        "id": "GQtbbnCESNoM"
      },
      "execution_count": null,
      "outputs": []
    },
    {
      "cell_type": "markdown",
      "source": [
        "We can customize the graphic animation by modifying the forward_kinematic_lines method:"
      ],
      "metadata": {
        "id": "pIpfp5HTSoH3"
      }
    },
    {
      "cell_type": "code",
      "source": [
        "def graph( q ):\n",
        "\n",
        "  lines_pts   = [] # list of array (n_pts x 3) for each lines\n",
        "  lines_style = []\n",
        "  lines_color = []\n",
        "  \n",
        "  # dot no 1\n",
        "  pts      = np.zeros(( 1 , 3 ))\n",
        "  pts[0,:] = np.array([ q[0], 0, 0])\n",
        "  \n",
        "  lines_pts.append( pts )\n",
        "  lines_style.append( 'o')\n",
        "  lines_color.append( 'b' )\n",
        "  \n",
        "  # dot no 2\n",
        "  pts      = np.zeros(( 1 , 3 ))\n",
        "  pts[0,:] = np.array([ 0, q[0], 0])\n",
        "  \n",
        "  lines_pts.append( pts )\n",
        "  lines_style.append( 'x')\n",
        "  lines_color.append( 'r' )\n",
        "  \n",
        "  # dot no 3\n",
        "  pts      = np.zeros(( 1 , 3 ))\n",
        "  pts[0,:] = np.array([ 0, 0, q[0]])\n",
        "  \n",
        "  lines_pts.append( pts )\n",
        "  lines_style.append( 'o')\n",
        "  lines_color.append( 'k' )\n",
        "          \n",
        "  return lines_pts , lines_style , lines_color\n",
        "\n",
        "# Overloading the graphic function\n",
        "sys.forward_kinematic_lines = graph"
      ],
      "metadata": {
        "id": "dORHcIW2SnbX"
      },
      "execution_count": null,
      "outputs": []
    },
    {
      "cell_type": "markdown",
      "source": [
        "Lets re-compute the animation:"
      ],
      "metadata": {
        "id": "iB-axmiUTevx"
      }
    },
    {
      "cell_type": "code",
      "source": [
        "# This would work locally in a python console\n",
        "#sys.animate_simulation()\n",
        "\n",
        "# This is the way for showing an animation on colab (we need to generate html)\n",
        "ani  = sys.generate_simulation_html_video()\n",
        "html = display.HTML( ani )\n",
        "display.display(html)"
      ],
      "metadata": {
        "id": "zOpWgnpRTdos"
      },
      "execution_count": null,
      "outputs": []
    },
    {
      "cell_type": "markdown",
      "source": [
        "Note that all animation can be shown in 3D with this argument:"
      ],
      "metadata": {
        "id": "gIR04lykTu4t"
      }
    },
    {
      "cell_type": "code",
      "source": [
        "# This would work locally in a python console\n",
        "#sys.animate_simulation( is_3d = True )\n",
        "\n",
        "# This is the way for showing an animation on colab (we need to generate html)\n",
        "ani  = sys.generate_simulation_html_video( is_3d = True )\n",
        "html = display.HTML( ani )\n",
        "display.display(html)"
      ],
      "metadata": {
        "id": "taD0OEIlTzy-"
      },
      "execution_count": null,
      "outputs": []
    }
  ]
}