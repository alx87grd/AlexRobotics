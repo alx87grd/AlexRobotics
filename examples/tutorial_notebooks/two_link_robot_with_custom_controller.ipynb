{
  "nbformat": 4,
  "nbformat_minor": 0,
  "metadata": {
    "colab": {
      "name": "two_link_robot_with_custom_controller.ipynb",
      "provenance": [],
      "private_outputs": true,
      "include_colab_link": true
    },
    "kernelspec": {
      "name": "python3",
      "display_name": "Python 3"
    },
    "language_info": {
      "name": "python"
    }
  },
  "cells": [
    {
      "cell_type": "markdown",
      "metadata": {
        "id": "view-in-github",
        "colab_type": "text"
      },
      "source": [
        "<a href=\"https://colab.research.google.com/github/SherbyRobotics/pyro/blob/colab/examples/notebooks/two_link_robot_with_custom_controller.ipynb\" target=\"_parent\"><img src=\"https://colab.research.google.com/assets/colab-badge.svg\" alt=\"Open In Colab\"/></a>"
      ]
    },
    {
      "cell_type": "markdown",
      "source": [
        "# Template for testing a custom controler on a two-link manipulator\n",
        "\n",
        "This page is a template for implementing and testing controllers for a two-link planar manipulator. "
      ],
      "metadata": {
        "id": "OkF8Q0WM-ECZ"
      }
    },
    {
      "cell_type": "markdown",
      "metadata": {
        "id": "eOFBWst7WmCb"
      },
      "source": [
        "## Importing Librairies"
      ]
    },
    {
      "cell_type": "code",
      "metadata": {
        "id": "tH-1a9VJGXi8"
      },
      "source": [
        "!git clone -b dev-alex https://github.com/SherbyRobotics/pyro\n",
        "import sys\n",
        "sys.path.append('/content/pyro')"
      ],
      "execution_count": null,
      "outputs": []
    },
    {
      "cell_type": "code",
      "metadata": {
        "id": "dBPjwyeEGrxo"
      },
      "source": [
        "import pyro\n",
        "import numpy as np\n",
        "import matplotlib.pyplot as plt\n",
        "\n",
        "from IPython import display\n",
        "!apt install ffmpeg\n",
        "\n",
        "from pyro.dynamic  import manipulator\n",
        "from pyro.control  import robotcontrollers"
      ],
      "execution_count": null,
      "outputs": []
    },
    {
      "cell_type": "markdown",
      "metadata": {
        "id": "cau_ePoSW6Z_"
      },
      "source": [
        "## Defining Dynamic System Model"
      ]
    },
    {
      "cell_type": "code",
      "metadata": {
        "id": "5pf-lSEZG5gy"
      },
      "source": [
        "robot = manipulator.TwoLinkManipulator()\n",
        "\n",
        "robot.l1 = 0.5 # length of first rigid link\n",
        "robot.l2 = 0.3 # length of second rigid link"
      ],
      "execution_count": null,
      "outputs": []
    },
    {
      "cell_type": "markdown",
      "metadata": {
        "id": "KuOjof8uXu6h"
      },
      "source": [
        "### Showing the defined robot"
      ]
    },
    {
      "cell_type": "code",
      "metadata": {
        "id": "SrgvgYn6X3g9"
      },
      "source": [
        "q = [0.1,0.1]     # robot configuration [ joint 1 angle (rad) ,  joint 2 angle (rad)]\n",
        "robot.show( q )"
      ],
      "execution_count": null,
      "outputs": []
    },
    {
      "cell_type": "markdown",
      "metadata": {
        "id": "P2wLQ8lDYY9S"
      },
      "source": [
        "### Showing the robot natural behavior with no controllers"
      ]
    },
    {
      "cell_type": "code",
      "metadata": {
        "id": "lfjr9zXlYYMb"
      },
      "source": [
        "robot.x0 = np.array([0.1,0.1,0.0,0.0])  # robot initial states [ joint 1 angle (rad),  joint 2 angle (rad), joint 1 velocity (rad/sec),  joint 1 velocity (rad/sec)]\n",
        "natural_trajectory = robot.compute_trajectory()\n",
        "\n",
        "# Animate the simulation\n",
        "video1 = robot.generate_simulation_html_video()\n",
        "html1 = display.HTML(video1)\n",
        "display.display(html1)"
      ],
      "execution_count": null,
      "outputs": []
    },
    {
      "cell_type": "markdown",
      "metadata": {
        "id": "nxKK7RWBa8kd"
      },
      "source": [
        "## Defining a custom feedback law"
      ]
    },
    {
      "cell_type": "code",
      "metadata": {
        "id": "M4cQxkQTD0Qn"
      },
      "source": [
        "def feedback_law( y , r , t = 0):\n",
        "  \"\"\"\n",
        "  y = [  q0,  q1, dq0 , dq1 ] : Feedback signal  = Robot joint angles and joint velocities\n",
        "  r = [ qd0, qd1]             : Reference signal = Robot desired joint angles\n",
        "  \"\"\"\n",
        "\n",
        "  u = np.array([2.0,2.0])       # Place-holder to overwrite with your control law\n",
        "\n",
        "  #u[0] = t\n",
        "  \n",
        "  return u\n",
        "\n"
      ],
      "execution_count": null,
      "outputs": []
    },
    {
      "cell_type": "code",
      "source": [
        "controller            = robotcontrollers.RobotController( dof = 2 )\n",
        "controller.c          = feedback_law"
      ],
      "metadata": {
        "id": "wLtQ8WhdAym7"
      },
      "execution_count": null,
      "outputs": []
    },
    {
      "cell_type": "markdown",
      "source": [
        "Define the desired joint angle"
      ],
      "metadata": {
        "id": "Ddjn7n6ACjuB"
      }
    },
    {
      "cell_type": "code",
      "source": [
        "controller.rbar       = np.array([0.5,0.5])  # Desired robot joint configuration [ joint 1 angle (rad) ,  joint 2 angle (rad)]"
      ],
      "metadata": {
        "id": "4Dt86Pb7Cifa"
      },
      "execution_count": null,
      "outputs": []
    },
    {
      "cell_type": "markdown",
      "metadata": {
        "id": "rOXYBwANcsc9"
      },
      "source": [
        "## Simulating the robot in closed-loop"
      ]
    },
    {
      "cell_type": "code",
      "source": [
        "closed_loop_robot = controller + robot\n",
        "\n",
        "closed_loop_robot.x0 = np.array([0.1,0.1,0,0])  # robot initial states [ joint 1 angle (rad),  joint 2 angle (rad), joint 1 velocity (rad/sec),  joint 1 velocity (rad/sec), PID_internalstate_1 , PID_internalstate_2]\n",
        "closed_loop_trajectory = closed_loop_robot.compute_trajectory()\n",
        "\n",
        "# Plot results\n",
        "closed_loop_robot.plot_trajectory('x')"
      ],
      "metadata": {
        "id": "VvW45FOAATbQ"
      },
      "execution_count": null,
      "outputs": []
    },
    {
      "cell_type": "code",
      "source": [
        "closed_loop_robot.plot_trajectory('u')"
      ],
      "metadata": {
        "id": "FH7kTe5IATmU"
      },
      "execution_count": null,
      "outputs": []
    },
    {
      "cell_type": "code",
      "metadata": {
        "id": "5YuyYOPSc5Gy"
      },
      "source": [
        "# Animate the simulation\n",
        "video2 = closed_loop_robot.generate_simulation_html_video()\n",
        "html2 = display.HTML(video2)\n",
        "display.display(html2)"
      ],
      "execution_count": null,
      "outputs": []
    },
    {
      "cell_type": "markdown",
      "source": [
        "## Evaluation"
      ],
      "metadata": {
        "id": "ne5KYYYJCafL"
      }
    },
    {
      "cell_type": "code",
      "source": [
        "qf = closed_loop_trajectory.x[-1,0:2]\n",
        "print('Final position=',qf)\n",
        "\n",
        "ef = qf - controller.rbar\n",
        "print('Final error=',ef)\n",
        "\n",
        "score = 100 - np.linalg.norm(ef)\n",
        "print('Final score=',score)\n"
      ],
      "metadata": {
        "id": "tqMf7tFoB6uS"
      },
      "execution_count": null,
      "outputs": []
    }
  ]
}