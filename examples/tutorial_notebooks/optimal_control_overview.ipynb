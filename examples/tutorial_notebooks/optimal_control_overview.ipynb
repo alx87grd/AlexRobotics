{
  "nbformat": 4,
  "nbformat_minor": 0,
  "metadata": {
    "colab": {
      "name": "optimal_control_overview.ipynb",
      "provenance": [],
      "collapsed_sections": [],
      "private_outputs": true,
      "include_colab_link": true
    },
    "kernelspec": {
      "name": "python3",
      "display_name": "Python 3"
    },
    "language_info": {
      "name": "python"
    }
  },
  "cells": [
    {
      "cell_type": "markdown",
      "metadata": {
        "id": "view-in-github",
        "colab_type": "text"
      },
      "source": [
        "<a href=\"https://colab.research.google.com/github/SherbyRobotics/pyro/blob/colab/examples/notebooks/optimal_control_overview.ipynb\" target=\"_parent\"><img src=\"https://colab.research.google.com/assets/colab-badge.svg\" alt=\"Open In Colab\"/></a>"
      ]
    },
    {
      "cell_type": "markdown",
      "source": [
        "### Optimal Control Overview\n",
        "\n",
        "This page introduce various optimal control algorithms for solving a pendulum swing-up task. We will show computing and using:\n",
        "\n",
        "1.   a pid controller;\n",
        "2.   a lqr controller;\n",
        "3.   an optimal numerical controller computed with value-iteration;\n",
        "4.   an optimal trajectory computed with the direct collocation method;\n",
        "5.   a trajectory following controller using the optimal trajectory."
      ],
      "metadata": {
        "id": "W_l3riKM0sPC"
      }
    },
    {
      "cell_type": "markdown",
      "metadata": {
        "id": "eOFBWst7WmCb"
      },
      "source": [
        "**Importing Librairies**\n",
        "\n",
        "This page uses the toolbox *pyro*."
      ]
    },
    {
      "cell_type": "code",
      "metadata": {
        "id": "tH-1a9VJGXi8"
      },
      "source": [
        "!git clone -b dev-alex https://github.com/SherbyRobotics/pyro\n",
        "import sys\n",
        "sys.path.append('/content/pyro')"
      ],
      "execution_count": null,
      "outputs": []
    },
    {
      "cell_type": "code",
      "metadata": {
        "id": "dBPjwyeEGrxo"
      },
      "source": [
        "import numpy as np\n",
        "from IPython import display\n",
        "!apt install ffmpeg"
      ],
      "execution_count": null,
      "outputs": []
    },
    {
      "cell_type": "markdown",
      "metadata": {
        "id": "cau_ePoSW6Z_"
      },
      "source": [
        "**Defining the dynamical**\n",
        "\n",
        "Here we load a already defined class from the library including the dynamic equations of the pendulum behavior, which is a function of the form:\n",
        "\n",
        "$\\dot{x} = f(x,u)$\n",
        "\n",
        "where $x$ is the state vector $[\\theta,\\dot\\theta]$, and $u$ is the torque. The class also inlcude other variables defining the control problem that we can set:\n",
        "*   The max/min torque available;\n",
        "*   The nominal state, set to $[\\theta=-\\pi,\\dot\\theta=0]$, which will be used as the goal state and the linearization point;\n",
        "*   The intial state, set to $[\\theta=0,\\dot\\theta=0]$, which will be used as a starting point for the simulations.\n",
        "\n",
        "\n",
        " "
      ]
    },
    {
      "cell_type": "code",
      "metadata": {
        "id": "5pf-lSEZG5gy"
      },
      "source": [
        "##############################################################################\n",
        "# Dynamics\n",
        "##############################################################################\n",
        "\n",
        "from pyro.dynamic  import pendulum\n",
        "\n",
        "# Define the dynamical system to control\n",
        "sys  = pendulum.SinglePendulum()\n",
        "\n",
        "sys.u_ub[0] = +5 # Max torque\n",
        "sys.u_lb[0] = -5 # Min torque\n",
        "\n",
        "sys.xbar  = np.array([ -3.14 , 0 ]) # target state [ position , velocity ]\n",
        "sys.x0    = np.array([ -0.00 , 0 ]) # initial state"
      ],
      "execution_count": null,
      "outputs": []
    },
    {
      "cell_type": "markdown",
      "source": [
        "The dynamical equations $\\dot{x} = f(x,u)$ can be represented graphically by a vector field shown here:"
      ],
      "metadata": {
        "id": "JQyJ0dOu9mDH"
      }
    },
    {
      "cell_type": "code",
      "source": [
        "sys.plot_phase_plane() # Graphical illustration of the dynamic behavior in the phase plane"
      ],
      "metadata": {
        "id": "wZ0nyAn_9okN"
      },
      "execution_count": null,
      "outputs": []
    },
    {
      "cell_type": "markdown",
      "metadata": {
        "id": "KuOjof8uXu6h"
      },
      "source": [
        "**Defining the cost function**\n",
        "\n",
        "Most optimal control algorithm are based on optimising a \"cost-function\" which is a mathematical representation of the performance\n",
        "\n",
        "Here we will use a standard quadratic cost function or the type:\n",
        "\n",
        "$J = \\int  ( x^T Q x + u^T R u ) dt$"
      ]
    },
    {
      "cell_type": "code",
      "metadata": {
        "id": "SrgvgYn6X3g9"
      },
      "source": [
        "##############################################################################\n",
        "# Cost Function\n",
        "##############################################################################\n",
        "\n",
        "from pyro.analysis import costfunction\n",
        "\n",
        "cf = costfunction.QuadraticCostFunction.from_sys( sys ) \n",
        "\n",
        "cf.INF  = 10000     # The value iteration algo needs this parameter\n",
        "\n",
        "cf.Q[0,0] = 1\n",
        "cf.Q[1,1] = 0.1\n",
        "cf.R[0,0] = 1\n",
        "\n",
        "sys.cost_function = cf"
      ],
      "execution_count": null,
      "outputs": []
    },
    {
      "cell_type": "markdown",
      "source": [
        "Here we see the final matrix used to define the cost function:"
      ],
      "metadata": {
        "id": "nuLhPsFw3m7Q"
      }
    },
    {
      "cell_type": "code",
      "source": [
        "print('Q=\\n',cf.Q)\n",
        "print('R=\\n',cf.R)"
      ],
      "metadata": {
        "id": "6sDPXre-3l8c"
      },
      "execution_count": null,
      "outputs": []
    },
    {
      "cell_type": "markdown",
      "source": [
        "**PID controller**\n",
        "\n",
        "Here as a baseline lets evaluate a basic PID controller. For now lets only use proportionnal gain $Kp$ and derivative gain $Kd$."
      ],
      "metadata": {
        "id": "SnfY9JLNzOV1"
      }
    },
    {
      "cell_type": "code",
      "source": [
        "##############################################################################\n",
        "# Sub-optimal PID\n",
        "##############################################################################\n",
        "\n",
        "from pyro.control  import linear\n",
        "\n",
        "pid      = linear.ProportionalController(1,2) # 1 output from 2 inputs\n",
        "pid.rbar = sys.xbar                           # target\n",
        "pid.K    = np.array([30,30])                   # gain matrix\n",
        "\n",
        "print('PID: [ Kp , Kd ] = ',pid.K)"
      ],
      "metadata": {
        "id": "2lYiOOXxzaxK"
      },
      "execution_count": null,
      "outputs": []
    },
    {
      "cell_type": "markdown",
      "source": [
        "Here we illustrates the resulting control law which is a function with two inputs (pendulum actual position and velocity) and one output (the motor torque) of the form $τ=c (θ,\\dotθ)$"
      ],
      "metadata": {
        "id": "yBSs3mIl4oLU"
      }
    },
    {
      "cell_type": "code",
      "source": [
        "pid.plot_control_law( sys = sys )"
      ],
      "metadata": {
        "id": "_3R6gGu21qkf"
      },
      "execution_count": null,
      "outputs": []
    },
    {
      "cell_type": "markdown",
      "source": [
        "Here we use the library tools to compute the equation of motion of the pendulum in closed-loop with the controller and to simulate a trajectory."
      ],
      "metadata": {
        "id": "poU0YsZ6LCZm"
      }
    },
    {
      "cell_type": "code",
      "source": [
        "sys_with_pid = pid + sys\n",
        "sys_with_pid.plot_trajectory('xuj')"
      ],
      "metadata": {
        "id": "y-yWKTL50FZz"
      },
      "execution_count": null,
      "outputs": []
    },
    {
      "cell_type": "code",
      "source": [
        "video = sys_with_pid.generate_simulation_html_video()\n",
        "html  = display.HTML(video)\n",
        "display.display(html)"
      ],
      "metadata": {
        "id": "4YraoEba0Myu"
      },
      "execution_count": null,
      "outputs": []
    },
    {
      "cell_type": "markdown",
      "source": [
        "In terms of our performance criteria we observe that the final cost of the simulated trajectory with this controller is:"
      ],
      "metadata": {
        "id": "ULpjktcCLVU3"
      }
    },
    {
      "cell_type": "code",
      "source": [
        "print('Trajectory cost: ', sys_with_pid.traj.J[-1])"
      ],
      "metadata": {
        "id": "PZn3Hi5o0PIH"
      },
      "execution_count": null,
      "outputs": []
    },
    {
      "cell_type": "markdown",
      "source": [
        "**LQR controller**\n",
        "\n",
        "For the specific case of an unconstrained linear system and a quadratic cost function, there is an analytical solution that we call LQR. Here the system is non-linear but we can linearize our system to generate a linear approximation of the form:\n",
        "\n",
        "$\\dot x = f(x,u) \\approx A x + B u $\n",
        "\n",
        "here we use a numerical approach to compute the Jacobians of the fonction that correspond to the A and B matrix:\n",
        "\n",
        "$A = \\frac{ \\partial f}{ \\partial  x}$\n",
        "\n",
        "$B = \\frac{ \\partial f}{ \\partial  u}$"
      ],
      "metadata": {
        "id": "cQ_c5X2EzrAi"
      }
    },
    {
      "cell_type": "code",
      "source": [
        "##############################################################################\n",
        "# LQR\n",
        "##############################################################################\n",
        "\n",
        "from pyro.dynamic  import statespace\n",
        "\n",
        "# Linear model\n",
        "ss  = statespace.linearize( sys )\n",
        "\n",
        "print('A=\\n',ss.A)\n",
        "print('B=\\n',ss.B)"
      ],
      "metadata": {
        "id": "3Ez3Uicpz9ME"
      },
      "execution_count": null,
      "outputs": []
    },
    {
      "cell_type": "markdown",
      "source": [
        "Then using the linear approximation, we use the analytical solution of the optimal controller for the linear system and the quadratic cost function defined earlier. This is done by solving the analytical riccati equation. The resulting optimal controller is a linear control law of the form:\n",
        "\n",
        "$u = - K x $"
      ],
      "metadata": {
        "id": "SHroM6SSQLkl"
      }
    },
    {
      "cell_type": "code",
      "source": [
        "from pyro.control import lqr\n",
        "\n",
        "lqr_ctl = lqr.synthesize_lqr_controller( ss , cf , sys.xbar)\n",
        "\n",
        "print('LQR K=\\n',lqr_ctl.K)"
      ],
      "metadata": {
        "id": "RdhQQRWKMRY7"
      },
      "execution_count": null,
      "outputs": []
    },
    {
      "cell_type": "markdown",
      "source": [
        "Then here we illustrates the LQR controller control law."
      ],
      "metadata": {
        "id": "Lp0SE5m0QwpG"
      }
    },
    {
      "cell_type": "code",
      "source": [
        "lqr_ctl.plot_control_law( sys = sys )"
      ],
      "metadata": {
        "id": "scqZR1v11keV"
      },
      "execution_count": null,
      "outputs": []
    },
    {
      "cell_type": "markdown",
      "source": [
        "Here we simulate a trajectory with the LQR controller."
      ],
      "metadata": {
        "id": "ai50dDYrjAG1"
      }
    },
    {
      "cell_type": "code",
      "source": [
        "sys_with_lqr = lqr_ctl + sys\n",
        "sys_with_lqr.plot_trajectory('xuj')"
      ],
      "metadata": {
        "id": "3QHo67DS0mpC"
      },
      "execution_count": null,
      "outputs": []
    },
    {
      "cell_type": "code",
      "source": [
        "video = sys_with_lqr.generate_simulation_html_video()\n",
        "html  = display.HTML(video)\n",
        "display.display(html)"
      ],
      "metadata": {
        "id": "2yISlM7p0oQo"
      },
      "execution_count": null,
      "outputs": []
    },
    {
      "cell_type": "code",
      "source": [
        "print('Trajectory cost: ', sys_with_lqr.traj.J[-1])"
      ],
      "metadata": {
        "id": "FsdMM6J10p4j"
      },
      "execution_count": null,
      "outputs": []
    },
    {
      "cell_type": "markdown",
      "source": [
        "**Value Iteration**\n",
        "\n",
        "One algorithm can optimize directly a system with any type of non-linearity and also inlcuding any constraint. For low-dof systems we can discretize the state-space and solve the bellman equation on this grid using the algorithm called value-iteration. First we iterate on to compute $J^*(x)$ the optimal cost-to-go that correspond to the futur cost of the trajectory if optimal actions are taken. The iteration consists in computing the following update until convergence:\n",
        "\n",
        "$J^*(x) ⇐ min_u [g(x,u) + J^*(x_{next})] \\quad \\forall x$\n",
        "\n",
        "the with $J^*(x)$ we can then compute the optimal control law with:\n",
        "\n",
        "$c^*(x) = argmin_u [g(x,u) + J^*(x_{next})] \\quad \\forall x$"
      ],
      "metadata": {
        "id": "CCgOWu6J0-ns"
      }
    },
    {
      "cell_type": "code",
      "source": [
        "##############################################################################\n",
        "# VI\n",
        "##############################################################################\n",
        "\n",
        "from pyro.planning import valueiteration\n",
        "from pyro.planning import discretizer\n",
        "\n",
        "# Value iteration algo\n",
        "vi = valueiteration.ValueIteration_2D( discretizer.GridDynamicSystem( sys ) , cf )\n",
        "\n",
        "vi.initialize()\n",
        "vi.compute_steps(200) # To compute from sratch instead of loading the solution\n",
        "#vi.load_data('/content/pyro/examples/demo/simple_pendulum_vi') # To load a pre-computed solution\n",
        "vi.assign_interpol_controller()\n",
        "vi_ctl = vi.ctl"
      ],
      "metadata": {
        "id": "ojQfauNZ1LVl"
      },
      "execution_count": null,
      "outputs": []
    },
    {
      "cell_type": "markdown",
      "source": [
        "The following figure show the computed cost-to-go."
      ],
      "metadata": {
        "id": "LB4EmBBkUhbP"
      }
    },
    {
      "cell_type": "code",
      "source": [
        "vi.plot_cost2go(200)"
      ],
      "metadata": {
        "id": "Eonbo0K6UmXR"
      },
      "execution_count": null,
      "outputs": []
    },
    {
      "cell_type": "markdown",
      "source": [
        "The results control law is a non-linear map shown here:"
      ],
      "metadata": {
        "id": "aWPkrtIUUJf-"
      }
    },
    {
      "cell_type": "code",
      "source": [
        "vi_ctl.plot_control_law( sys = sys , n=1000)"
      ],
      "metadata": {
        "id": "NgKtd9VRUFpq"
      },
      "execution_count": null,
      "outputs": []
    },
    {
      "cell_type": "markdown",
      "source": [
        "Here we simulate a trajectory with the optimal controller generated with value iteration."
      ],
      "metadata": {
        "id": "Ih3TMdK3jl04"
      }
    },
    {
      "cell_type": "code",
      "source": [
        "sys_with_vi = vi_ctl + sys\n",
        "sys_with_vi.plot_trajectory('xuj')"
      ],
      "metadata": {
        "id": "vAkZRM_O1PmA"
      },
      "execution_count": null,
      "outputs": []
    },
    {
      "cell_type": "code",
      "source": [
        "video = sys_with_vi.generate_simulation_html_video()\n",
        "html  = display.HTML(video)\n",
        "display.display(html)"
      ],
      "metadata": {
        "id": "pFqnMVUN1SLW"
      },
      "execution_count": null,
      "outputs": []
    },
    {
      "cell_type": "code",
      "source": [
        "print('Trajectory cost: ', sys_with_vi.traj.J[-1])"
      ],
      "metadata": {
        "id": "oKLpP0-L1T80"
      },
      "execution_count": null,
      "outputs": []
    },
    {
      "cell_type": "markdown",
      "source": [
        "**Trajectory Optimisation**\n",
        "\n",
        "Another approach is instead of trying to find the optimal controller directly, it is much faster to find an optimal trajectory from just an initial state. One approach is to formulate the problem as an constrained optimisation problem of the form:\n",
        "\n",
        "$min \\int_{t_0}^{t_f}  ( x^T Q x + u^T R u ) dt  $\n",
        "\n",
        "subject to $\\dot{x} = f(x,u)$"
      ],
      "metadata": {
        "id": "PdSLiJyF1xRp"
      }
    },
    {
      "cell_type": "code",
      "source": [
        "##############################################################################\n",
        "# Direct Collocation Trajectory Optimisation\n",
        "##############################################################################\n",
        "\n",
        "from pyro.planning import trajectoryoptimisation\n",
        "\n",
        "planner = trajectoryoptimisation.DirectCollocationTrajectoryOptimisation( sys ,\n",
        "                                                                          dt = 0.1,\n",
        "                                                                          grid = 50)\n",
        "\n",
        "planner.x_start = sys.x0\n",
        "planner.x_goal  = sys.xbar\n",
        "\n",
        "planner.compute_optimal_trajectory()\n"
      ],
      "metadata": {
        "id": "aIja7BgQ17MA"
      },
      "execution_count": null,
      "outputs": []
    },
    {
      "cell_type": "markdown",
      "source": [
        "Here we show the resulting optimised trajectory."
      ],
      "metadata": {
        "id": "-QNuumK9nTNO"
      }
    },
    {
      "cell_type": "code",
      "source": [
        "planner.show_solution()"
      ],
      "metadata": {
        "id": "55YBv7_rnSEt"
      },
      "execution_count": null,
      "outputs": []
    },
    {
      "cell_type": "markdown",
      "source": [
        "**Trajectory following controller**\n",
        "\n",
        "Finding an optimal trajectory is however only part of the solution. Simply executing the computed torque as a function of time would quickly lead to diverging from the computed optimal trajectory, the trajectory needs to be stabilized.\n",
        "\n",
        "Here we will use a control method call \"computed torque\" to stabilise the trajectory."
      ],
      "metadata": {
        "id": "GZjcLch02IQ8"
      }
    },
    {
      "cell_type": "code",
      "source": [
        "##############################################################################\n",
        "# Stabilizing the optimal trajectory\n",
        "##############################################################################\n",
        "\n",
        "from pyro.control  import nonlinear\n",
        "\n",
        "traj_ctl  = nonlinear.ComputedTorqueController( sys , planner.traj )  \n",
        "\n",
        "traj_ctl.w0   = 2\n",
        "traj_ctl.zeta = 1\n",
        "traj_ctl.rbar = sys.xbar[0:1]"
      ],
      "metadata": {
        "id": "xICJ1B-r2UDs"
      },
      "execution_count": null,
      "outputs": []
    },
    {
      "cell_type": "markdown",
      "source": [
        "The resulting control law is a function of the state of also the time"
      ],
      "metadata": {
        "id": "bXzCqJrZpST0"
      }
    },
    {
      "cell_type": "code",
      "source": [
        "traj_ctl.plot_control_law( t = 0 , sys = sys , n=100)"
      ],
      "metadata": {
        "id": "GGuVQI_4ovKV"
      },
      "execution_count": null,
      "outputs": []
    },
    {
      "cell_type": "code",
      "source": [
        "traj_ctl.plot_control_law( t = 5 , sys = sys , n=100)"
      ],
      "metadata": {
        "id": "_fGaG1WCowCk"
      },
      "execution_count": null,
      "outputs": []
    },
    {
      "cell_type": "markdown",
      "source": [
        "Here we simulate a trajectory with the trajectory following controller:"
      ],
      "metadata": {
        "id": "I02uEPqVpvv6"
      }
    },
    {
      "cell_type": "code",
      "source": [
        "sys_with_traj_ctl = traj_ctl + sys\n",
        "sys_with_traj_ctl.plot_trajectory('xuj')"
      ],
      "metadata": {
        "id": "maVGPEod2ZCI"
      },
      "execution_count": null,
      "outputs": []
    },
    {
      "cell_type": "code",
      "source": [
        "video = sys_with_traj_ctl.generate_simulation_html_video()\n",
        "html  = display.HTML(video)\n",
        "display.display(html)"
      ],
      "metadata": {
        "id": "k85r-CNT2baw"
      },
      "execution_count": null,
      "outputs": []
    },
    {
      "cell_type": "code",
      "source": [
        "print('Trajectory cost: ', sys_with_traj_ctl.traj.J[-1])"
      ],
      "metadata": {
        "id": "yXbccGvJ2fe5"
      },
      "execution_count": null,
      "outputs": []
    },
    {
      "cell_type": "markdown",
      "source": [
        "We can see that using the scheme of first optimising a trajectory and then stabilizing it using a trajectory following controller led to a solution almost as good as the resulting solution found using the value-iteration algorithm but using much lest computations."
      ],
      "metadata": {
        "id": "gwkcCxNDp5Ip"
      }
    }
  ]
}