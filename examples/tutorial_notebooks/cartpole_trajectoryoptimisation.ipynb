{
  "nbformat": 4,
  "nbformat_minor": 0,
  "metadata": {
    "colab": {
      "name": "cartpole_trajectoryoptimisation.ipynb",
      "provenance": [],
      "collapsed_sections": [],
      "private_outputs": true,
      "include_colab_link": true
    },
    "kernelspec": {
      "name": "python3",
      "display_name": "Python 3"
    },
    "language_info": {
      "name": "python"
    }
  },
  "cells": [
    {
      "cell_type": "markdown",
      "metadata": {
        "id": "view-in-github",
        "colab_type": "text"
      },
      "source": [
        "<a href=\"https://colab.research.google.com/github/SherbyRobotics/pyro/blob/colab/examples/notebooks/cartpole_trajectoryoptimisation.ipynb\" target=\"_parent\"><img src=\"https://colab.research.google.com/assets/colab-badge.svg\" alt=\"Open In Colab\"/></a>"
      ]
    },
    {
      "cell_type": "markdown",
      "source": [
        "### Trajectory optimisation for the cart-pole swing-up\n",
        "\n",
        "This page shows and exemple of planning an optimal trajectory for a cart-pole swing-up with the direct-collocation method."
      ],
      "metadata": {
        "id": "W_l3riKM0sPC"
      }
    },
    {
      "cell_type": "markdown",
      "metadata": {
        "id": "eOFBWst7WmCb"
      },
      "source": [
        "**Importing Librairies**\n",
        "\n",
        "This page uses the toolbox *pyro*."
      ]
    },
    {
      "cell_type": "code",
      "metadata": {
        "id": "tH-1a9VJGXi8"
      },
      "source": [
        "!git clone -b dev-alex https://github.com/SherbyRobotics/pyro\n",
        "import sys\n",
        "sys.path.append('/content/pyro')"
      ],
      "execution_count": null,
      "outputs": []
    },
    {
      "cell_type": "code",
      "metadata": {
        "id": "dBPjwyeEGrxo"
      },
      "source": [
        "import numpy as np\n",
        "from IPython import display\n",
        "!apt install ffmpeg"
      ],
      "execution_count": null,
      "outputs": []
    },
    {
      "cell_type": "markdown",
      "metadata": {
        "id": "cau_ePoSW6Z_"
      },
      "source": [
        "# Defining the dynamics\n",
        "\n",
        "Here we load a already defined class from the library including the dynamic equations of the cart-pole, which is a function of the form:\n",
        "\n",
        "$\\dot{x} = f(x,u)$\n",
        "\n",
        "The class also inlcude other variables defining the control problem that we can set:\n",
        "*   The max/min torque available;\n",
        "*   The initial state;\n",
        "*   The goal state;\n",
        "\n",
        "\n",
        " "
      ]
    },
    {
      "cell_type": "code",
      "metadata": {
        "id": "5pf-lSEZG5gy"
      },
      "source": [
        "##############################################################################\n",
        "# Dynamics\n",
        "##############################################################################\n",
        "\n",
        "from pyro.dynamic  import cartpole\n",
        "\n",
        "# Define the dynamical system to control\n",
        "sys  = cartpole.UnderActuatedRotatingCartPole()\n",
        "\n",
        "sys.u_ub[0] = +50 # Max torque\n",
        "sys.u_lb[0] = -50 # Min torque\n",
        "\n",
        "sys.x0    = np.array([0,-3.14,0,0]) # starting states\n",
        "sys.xbar  = np.array([0,0,0,0])    # goal states\n",
        "\n"
      ],
      "execution_count": null,
      "outputs": []
    },
    {
      "cell_type": "markdown",
      "source": [
        "The dynamical equations $\\dot{x} = f(x,u)$ can be represented graphically by a vector field shown here:"
      ],
      "metadata": {
        "id": "JQyJ0dOu9mDH"
      }
    },
    {
      "cell_type": "code",
      "source": [
        "sys.plot_phase_plane(0,2) # Graphical illustration of the dynamic behavior in the phase plane\n",
        "sys.plot_phase_plane(1,3)"
      ],
      "metadata": {
        "id": "wZ0nyAn_9okN"
      },
      "execution_count": null,
      "outputs": []
    },
    {
      "cell_type": "markdown",
      "source": [
        "Since the system has 4 states, the dynamics is actually a 4d vector field. Here we ploted 2 sub-planes of this higher dimension space."
      ],
      "metadata": {
        "id": "SWT87FzsstJD"
      }
    },
    {
      "cell_type": "markdown",
      "metadata": {
        "id": "KuOjof8uXu6h"
      },
      "source": [
        "#Defining the cost function\n",
        "\n",
        "Most optimal control algorithm are based on optimising a \"cost-function\" which is a mathematical representation of the performance\n",
        "\n",
        "Here we will use a standard quadratic cost function or the type:\n",
        "\n",
        "$J = \\int  ( x^T Q x + u^T R u ) dt$"
      ]
    },
    {
      "cell_type": "code",
      "metadata": {
        "id": "SrgvgYn6X3g9"
      },
      "source": [
        "##############################################################################\n",
        "# Cost Function\n",
        "##############################################################################\n",
        "\n",
        "from pyro.analysis import costfunction\n",
        "\n",
        "cf = costfunction.QuadraticCostFunction.from_sys( sys ) \n",
        "\n",
        "cf.INF  = 10000     # The value iteration algo needs this parameter\n",
        "\n",
        "cf.Q[0,0] = 1\n",
        "cf.Q[1,1] = 1\n",
        "cf.Q[2,2] = 100\n",
        "cf.Q[3,3] = 1\n",
        "cf.R[0,0] = 1\n",
        "\n",
        "sys.cost_function = cf"
      ],
      "execution_count": null,
      "outputs": []
    },
    {
      "cell_type": "markdown",
      "source": [
        "Here we see the final matrix used to define the cost function:"
      ],
      "metadata": {
        "id": "nuLhPsFw3m7Q"
      }
    },
    {
      "cell_type": "code",
      "source": [
        "print('Q=\\n',cf.Q)\n",
        "print('R=\\n',cf.R)"
      ],
      "metadata": {
        "id": "6sDPXre-3l8c"
      },
      "execution_count": null,
      "outputs": []
    },
    {
      "cell_type": "markdown",
      "source": [
        "#Trajectory Optimisation\n",
        "\n",
        "Another approach is instead of trying to find the optimal controller directly, it is much faster to find an optimal trajectory from just an initial state. One approach is to formulate the problem as an constrained optimisation problem of the form:\n",
        "\n",
        "$min \\int_{t_0}^{t_f}  ( x^T Q x + u^T R u ) dt  $\n",
        "\n",
        "subject to $\\dot{x} = f(x,u)$"
      ],
      "metadata": {
        "id": "PdSLiJyF1xRp"
      }
    },
    {
      "cell_type": "code",
      "source": [
        "##############################################################################\n",
        "# Direct Collocation Trajectory Optimisation\n",
        "##############################################################################\n",
        "\n",
        "from pyro.planning import trajectoryoptimisation\n",
        "\n",
        "planner = trajectoryoptimisation.DirectCollocationTrajectoryOptimisation( sys ,\n",
        "                                                                          dt = 0.1,\n",
        "                                                                          grid = 30)\n",
        "\n",
        "planner.x_start = sys.x0 \n",
        "planner.x_goal  = sys.xbar\n",
        "\n",
        "planner.compute_optimal_trajectory()\n"
      ],
      "metadata": {
        "id": "aIja7BgQ17MA"
      },
      "execution_count": null,
      "outputs": []
    },
    {
      "cell_type": "markdown",
      "source": [
        "## Fail!\n",
        "The optimiser failled to converge. Optimising non-linear fonction under constraints is tricky. One way to improve our chance of convergence is to guide the solver with an initial trajectory guess."
      ],
      "metadata": {
        "id": "-QNuumK9nTNO"
      }
    },
    {
      "cell_type": "markdown",
      "source": [
        "# Coarse feasible trajectory with RRT\n",
        "\n",
        "Here we will use another type of algorithme to find a rough \"feasible solution\" in order to give an initial guess to our trajectory optimiser."
      ],
      "metadata": {
        "id": "n57ldDeAof_r"
      }
    },
    {
      "cell_type": "code",
      "source": [
        "#######################################\n",
        "# Coarse planning with RRT\n",
        "#######################################\n",
        "\n",
        "from pyro.planning import randomtree\n",
        "\n",
        "rrt = randomtree.RRT( sys , sys.x0 )\n",
        "\n",
        "# Discrete actions\n",
        "rrt.u_options = [\n",
        "        sys.u_lb,\n",
        "        sys.u_ub,\n",
        "        np.array([ 0])\n",
        "        ]\n",
        "\n",
        "# RRT search parameters\n",
        "rrt.goal_radius          = 1.5\n",
        "rrt.max_nodes            = 10000\n",
        "rrt.max_solution_time    = 3.0\n",
        "rrt.dt                   = 0.05\n",
        "rrt.max_distance_compute = 1000\n",
        "rrt.dyna_plot            = False\n",
        "\n",
        "rrt.find_path_to_goal( sys.xbar )\n",
        "\n",
        "rrt.plot_tree()\n",
        "rrt.plot_open_loop_solution()\n",
        "\n",
        "\n"
      ],
      "metadata": {
        "id": "T9IObopWphWq"
      },
      "execution_count": null,
      "outputs": []
    },
    {
      "cell_type": "markdown",
      "source": [
        "So here we have a rough solution, but as we can see on the solution plot, it is very rought and coarse. Hence, we could not really expect to use it directly. But for an initial guess it can still be very usefull."
      ],
      "metadata": {
        "id": "Np4jGW_Gpgs0"
      }
    },
    {
      "cell_type": "markdown",
      "source": [
        "**Trajectory Optimisation with an initial guess solution**\n",
        "\n",
        "Here we will again try the direct collocation method but we will give an initial guess to the solver."
      ],
      "metadata": {
        "id": "ghzXxTNWr8Is"
      }
    },
    {
      "cell_type": "code",
      "source": [
        "planner2 = trajectoryoptimisation.DirectCollocationTrajectoryOptimisation( sys ,\n",
        "                                                                          dt = 0.1,\n",
        "                                                                          grid = 30)\n",
        "planner2.x_start = sys.x0 \n",
        "planner2.x_goal  = sys.xbar\n",
        "\n",
        "planner2.set_initial_trajectory_guest( rrt.trajectory )\n",
        "\n",
        "planner2.compute_optimal_trajectory()"
      ],
      "metadata": {
        "id": "Kn-gtM6tsLqA"
      },
      "execution_count": null,
      "outputs": []
    },
    {
      "cell_type": "code",
      "source": [
        "planner2.show_solution()"
      ],
      "metadata": {
        "id": "kFxNsjjpwq2I"
      },
      "execution_count": null,
      "outputs": []
    },
    {
      "cell_type": "code",
      "source": [
        "video = planner2.animate_solution_to_html( is_3d = True )\n",
        "html  = display.HTML(video)\n",
        "display.display(html)"
      ],
      "metadata": {
        "id": "X2-cslJuwv7X"
      },
      "execution_count": null,
      "outputs": []
    }
  ]
}